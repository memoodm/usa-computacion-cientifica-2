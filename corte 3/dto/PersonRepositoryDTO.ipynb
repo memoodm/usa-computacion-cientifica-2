{
 "cells": [
  {
   "cell_type": "code",
   "execution_count": 1,
   "id": "c3da7ac3-ae13-443c-a8fc-8b46c36baae1",
   "metadata": {},
   "outputs": [],
   "source": [
    "class Person:\n",
    "\n",
    "    person_id = None\n",
    "    name = None\n",
    "    last_name = None\n",
    "    age = None\n",
    "    city = None\n",
    "\n",
    "    def __str__(self):\n",
    "        return f\"PersonDTO(id={self.person_id}, name={self.name}, last_name={self.last_name}, age={self.age}, city={self.city})\"\n",
    "\n",
    "    def __repr__(self):\n",
    "        return self.__str__()"
   ]
  },
  {
   "cell_type": "code",
   "execution_count": 2,
   "id": "7e0d0140-0fbc-4176-ad03-2e840dbeb5d9",
   "metadata": {},
   "outputs": [],
   "source": [
    "class PersonMapper:\n",
    "\n",
    "    def toDTO(self,sqlResult):\n",
    "        person = Person()\n",
    "        person.person_id = sqlResult[0]\n",
    "        person.name = sqlResult[1]\n",
    "        person.last_name = sqlResult[2]\n",
    "        person.age = sqlResult[3]\n",
    "        person.city = sqlResult[4]      \n",
    "        return person"
   ]
  },
  {
   "cell_type": "code",
   "execution_count": 3,
   "id": "c7056d6b-7fa4-450e-8742-6a22779a800d",
   "metadata": {},
   "outputs": [],
   "source": [
    "import sqlite3\n",
    "\n",
    "class PersonRepository:\n",
    "\n",
    "    table = \"person\"\n",
    "    \n",
    "    def __init__(self,url):\n",
    "        self.__connection = sqlite3.connect(url)  \n",
    "        self.mapper = PersonMapper()\n",
    "\n",
    "    def create_person(self,person):\n",
    "        try:\n",
    "            query = f\"\"\"\n",
    "                    INSERT INTO {self.table}\n",
    "                        (name,last_name,age,city)\n",
    "                    VALUES('{person.name}','{person.last_name}',{person.age},'{person.city}')\n",
    "                    \"\"\"\n",
    "            cursor = self.__connection.cursor()\n",
    "            cursor.execute(query)\n",
    "            self.__connection.commit()\n",
    "        except Exception as e:\n",
    "            print(f\"Error creating data: {e}\")\n",
    "\n",
    "    def get_person_by_id(self,person_id):\n",
    "        try:\n",
    "            query = f\"\"\"\n",
    "                    SELECT * \n",
    "                    FROM {self.table} p\n",
    "                    WHERE p.id = {person_id}\n",
    "                    \"\"\"\n",
    "            cursor = self.__connection.cursor()\n",
    "            cursor.execute(query)\n",
    "            result = cursor.fetchone()\n",
    "            person = self.mapper.toDTO(result)\n",
    "            return person\n",
    "        except Exception as e:\n",
    "            print(f\"Error selecting data: {e}\")\n",
    "    \n",
    "    def get_all_persons(self):\n",
    "        try:\n",
    "            query = f\"\"\"\n",
    "                    SELECT * \n",
    "                    FROM {self.table} p\n",
    "                    \"\"\"\n",
    "            cursor = self.__connection.cursor()\n",
    "            cursor.execute(query)\n",
    "            results = cursor.fetchall()\n",
    "            persons = []\n",
    "            for r in results:\n",
    "                person = self.mapper.toDTO(r)\n",
    "                persons.append( person )\n",
    "            return persons\n",
    "        except Exception as e:\n",
    "            print(f\"Error selecting data: {e}\")\n",
    "\n",
    "    def create_person(self,person):\n",
    "        try:\n",
    "            query = f\"\"\"\n",
    "                    INSERT INTO {self.table}\n",
    "                        (name,last_name,age,city)\n",
    "                    VALUES('{person.name}','{person.last_name}',{person.age},'{person.city}')\n",
    "                    \"\"\"\n",
    "            cursor = self.__connection.cursor()\n",
    "            cursor.execute(query)\n",
    "            self.__connection.commit()\n",
    "        except Exception as e:\n",
    "            print(f\"Error creating data: {e}\")"
   ]
  },
  {
   "cell_type": "markdown",
   "id": "989be532-c55c-43af-a29c-7ad494deb624",
   "metadata": {},
   "source": [
    "# connection"
   ]
  },
  {
   "cell_type": "code",
   "execution_count": 5,
   "id": "97b87928-cb11-4539-aeba-5afc1a83074a",
   "metadata": {},
   "outputs": [],
   "source": [
    "database_path = \"C:\\\\Users\\\\Memo\\\\Dropbox\\\\maestria - programacion analitica de datos\\\\clases\\\\p3 - SQL\"\n",
    "database_name = \"simple_person.db\"\n",
    "person_repository = PersonRepository(f\"{database_path}\\\\{database_name}\")"
   ]
  },
  {
   "cell_type": "markdown",
   "id": "901450b3-a76e-4b14-969c-a74ad75dab75",
   "metadata": {},
   "source": [
    "# Get all"
   ]
  },
  {
   "cell_type": "code",
   "execution_count": 7,
   "id": "a8344aea-f81d-42cd-b4b7-8d5d70e836f2",
   "metadata": {},
   "outputs": [
    {
     "data": {
      "text/plain": [
       "[PersonDTO(id=1, name=Mario, last_name=Bross, age=50, city=Bogota),\n",
       " PersonDTO(id=2, name=Luigi, last_name=Bross, age=40, city=Medellin),\n",
       " PersonDTO(id=3, name=Donkey, last_name=Kong, age=20, city=Cartagena),\n",
       " PersonDTO(id=4, name=Bowser, last_name=Evil, age=70, city=Bogota),\n",
       " PersonDTO(id=5, name=Peach, last_name=Princess, age=25, city=Barranquilla),\n",
       " PersonDTO(id=6, name=Warrio, last_name=Bross, age=45, city=Santa Marta)]"
      ]
     },
     "execution_count": 7,
     "metadata": {},
     "output_type": "execute_result"
    }
   ],
   "source": [
    "person_repository.get_all_persons()"
   ]
  },
  {
   "cell_type": "markdown",
   "id": "0ddfccba-f5bd-46a7-b972-92ba0baecab8",
   "metadata": {},
   "source": [
    "# Get one"
   ]
  },
  {
   "cell_type": "code",
   "execution_count": 9,
   "id": "91e6dcd0-1b5b-4d78-8591-951afa442a6e",
   "metadata": {},
   "outputs": [
    {
     "data": {
      "text/plain": [
       "PersonDTO(id=1, name=Mario, last_name=Bross, age=50, city=Bogota)"
      ]
     },
     "execution_count": 9,
     "metadata": {},
     "output_type": "execute_result"
    }
   ],
   "source": [
    "person_repository.get_person_by_id(1)"
   ]
  },
  {
   "cell_type": "markdown",
   "id": "21a5cd40-2c6f-456c-b014-cce061bf8901",
   "metadata": {},
   "source": [
    "# Create"
   ]
  },
  {
   "cell_type": "code",
   "execution_count": 11,
   "id": "66131b9b-8cec-48ca-91a1-1afcbc121bdd",
   "metadata": {},
   "outputs": [],
   "source": [
    "person = Person()\n",
    "person.name = \"Guillermo\"\n",
    "person.last_name = \"De Mendoza\"\n",
    "person.age = 36\n",
    "person.city = \"Monteria\"\n",
    "\n",
    "person_repository.create_person(person)"
   ]
  },
  {
   "cell_type": "code",
   "execution_count": null,
   "id": "c108d00c-e21b-4390-b1f5-7c70ddfed563",
   "metadata": {},
   "outputs": [],
   "source": []
  }
 ],
 "metadata": {
  "kernelspec": {
   "display_name": "Python 3 (ipykernel)",
   "language": "python",
   "name": "python3"
  },
  "language_info": {
   "codemirror_mode": {
    "name": "ipython",
    "version": 3
   },
   "file_extension": ".py",
   "mimetype": "text/x-python",
   "name": "python",
   "nbconvert_exporter": "python",
   "pygments_lexer": "ipython3",
   "version": "3.12.7"
  }
 },
 "nbformat": 4,
 "nbformat_minor": 5
}
