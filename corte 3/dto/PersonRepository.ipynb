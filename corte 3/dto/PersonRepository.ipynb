{
 "cells": [
  {
   "cell_type": "code",
   "execution_count": 95,
   "id": "61e1ca29-707c-4d21-83a3-198b0e82ae05",
   "metadata": {},
   "outputs": [],
   "source": [
    "import sqlite3\n",
    "\n",
    "class PersonRepository:\n",
    "\n",
    "    table = \"person\"\n",
    "    \n",
    "    def __init__(self,url):\n",
    "        self.__connection = sqlite3.connect(url)   \n",
    "        \n",
    "    def get_all_persons(self):\n",
    "        try:\n",
    "            query = f\"\"\"\n",
    "                    SELECT * \n",
    "                    FROM {self.table} p\n",
    "                    \"\"\"\n",
    "            cursor = self.__connection.cursor()\n",
    "            cursor.execute(query)\n",
    "            results = cursor.fetchall()\n",
    "            return results\n",
    "        except Exception as e:\n",
    "            print(f\"Error selecting data: {e}\")\n",
    "\n",
    "    def get_person_by_id(self,person_id):\n",
    "        try:\n",
    "            query = f\"\"\"\n",
    "                    SELECT * \n",
    "                    FROM {self.table} p\n",
    "                    WHERE p.id = {person_id}\n",
    "                    \"\"\"\n",
    "            cursor = self.__connection.cursor()\n",
    "            cursor.execute(query)\n",
    "            result = cursor.fetchone()\n",
    "            return result\n",
    "        except Exception as e:\n",
    "            print(f\"Error selecting data: {e}\")\n",
    "\n",
    "    def create_person(self,name,last_name,age,city):\n",
    "        try:\n",
    "            query = f\"\"\"\n",
    "                    INSERT INTO {self.table}\n",
    "                        (name,last_name,age,city)\n",
    "                    VALUES('{name}','{last_name}',{age},'{city}')\n",
    "                    \"\"\"\n",
    "            cursor = self.__connection.cursor()\n",
    "            cursor.execute(query)\n",
    "            self.__connection.commit()\n",
    "        except Exception as e:\n",
    "            print(f\"Error creating data: {e}\")\n",
    "\n",
    "    def update_person_name_by_id(self,person_id,name):\n",
    "        try:\n",
    "            query = f\"\"\"\n",
    "                    UPDATE {self.table}\n",
    "                    SET name = '{name}'\n",
    "                    WHERE id = {person_id}\n",
    "                    \"\"\"\n",
    "            cursor = self.__connection.cursor()\n",
    "            cursor.execute(query)\n",
    "            self.__connection.commit()\n",
    "        except Exception as e:\n",
    "            print(f\"Error updating data: {e}\")\n",
    "            \n",
    "    def delete_person_by_id(self,person_id):\n",
    "        try:\n",
    "            query = f\"\"\"\n",
    "                    DELETE FROM {self.table}\n",
    "                    WHERE id = {person_id}\n",
    "                    \"\"\"\n",
    "            cursor = self.__connection.cursor()\n",
    "            cursor.execute(query)\n",
    "            self.__connection.commit()\n",
    "        except Exception as e:\n",
    "            print(f\"Error updating data: {e}\")"
   ]
  },
  {
   "cell_type": "markdown",
   "id": "72668378-17a0-4d2b-9d83-c31e57ddb9e4",
   "metadata": {},
   "source": [
    "# connection"
   ]
  },
  {
   "cell_type": "code",
   "execution_count": 98,
   "id": "60e37bf5-cdd4-4b38-b0fa-28291fab8355",
   "metadata": {},
   "outputs": [],
   "source": [
    "database_path = \"C:\\\\Users\\\\Memo\\\\Dropbox\\\\maestria - programacion analitica de datos\\\\clases\\\\p3 - SQL\"\n",
    "database_name = \"simple_person.db\"\n",
    "person_repository = PersonRepository(f\"{database_path}\\\\{database_name}\")"
   ]
  },
  {
   "cell_type": "markdown",
   "id": "aa2a0d69-8eee-4b60-98e7-9cc3b0beebdc",
   "metadata": {},
   "source": [
    "# Get all"
   ]
  },
  {
   "cell_type": "code",
   "execution_count": 101,
   "id": "dc7d858e-b074-4395-9e73-147dbb9bd8e2",
   "metadata": {},
   "outputs": [
    {
     "data": {
      "text/plain": [
       "[(1, 'Mario', 'Bross', 50, 'Bogota'),\n",
       " (2, 'Luigi', 'Bross', 40, 'Medellin'),\n",
       " (3, 'Donkey', 'Kong', 20, 'Cartagena'),\n",
       " (4, 'Bowser', 'Evil', 70, 'Bogota'),\n",
       " (5, 'Peach', 'Princess', 25, 'Barranquilla'),\n",
       " (6, 'Warrio', 'Bross', 45, 'Santa Marta')]"
      ]
     },
     "execution_count": 101,
     "metadata": {},
     "output_type": "execute_result"
    }
   ],
   "source": [
    "person_results = person_repository.get_all_persons()\n",
    "person_results"
   ]
  },
  {
   "cell_type": "markdown",
   "id": "cc2cb26f-ee1b-449e-8464-ea00d199deb0",
   "metadata": {},
   "source": [
    "# Get one"
   ]
  },
  {
   "cell_type": "code",
   "execution_count": 61,
   "id": "bd87d82a-83b8-447c-a1dd-b142d3b96782",
   "metadata": {},
   "outputs": [
    {
     "data": {
      "text/plain": [
       "(3, 'Donkey', 'Kong', 20, 'Cartagena')"
      ]
     },
     "execution_count": 61,
     "metadata": {},
     "output_type": "execute_result"
    }
   ],
   "source": [
    "person = person_repository.get_person_by_id(3)\n",
    "person"
   ]
  },
  {
   "cell_type": "markdown",
   "id": "6112b965-83c6-452a-8140-ca98ff586667",
   "metadata": {},
   "source": [
    "# Insert"
   ]
  },
  {
   "cell_type": "code",
   "execution_count": 63,
   "id": "9814fe25-fb6a-4ccb-924f-6c65888286fd",
   "metadata": {},
   "outputs": [
    {
     "name": "stdout",
     "output_type": "stream",
     "text": [
      "Executing query:  \n",
      "                    INSERT INTO person\n",
      "                        (name,last_name,age,city)\n",
      "                    VALUES('Guillermo','DeMendoza',36,'Monteria')\n",
      "                    \n"
     ]
    }
   ],
   "source": [
    "person_repository.create_person(\"Guillermo\",\"DeMendoza\",36,\"Monteria\")"
   ]
  },
  {
   "cell_type": "markdown",
   "id": "fb7da445-0a9e-4af4-9549-ca7f0f164155",
   "metadata": {},
   "source": [
    "# Update"
   ]
  },
  {
   "cell_type": "code",
   "execution_count": 69,
   "id": "54d87dc2-7aa7-42bd-9b4a-4565954ab784",
   "metadata": {},
   "outputs": [],
   "source": [
    "person_repository.update_person_name_by_id(1,\"Boo\")"
   ]
  },
  {
   "cell_type": "markdown",
   "id": "460c31cc-f8f3-4102-8854-aad030315db4",
   "metadata": {},
   "source": [
    "# Delete"
   ]
  },
  {
   "cell_type": "code",
   "execution_count": 75,
   "id": "a5025aa9-2821-431f-b454-4b4844a1e43c",
   "metadata": {},
   "outputs": [],
   "source": [
    "person_repository.delete_person_by_id(1)"
   ]
  }
 ],
 "metadata": {
  "kernelspec": {
   "display_name": "Python 3 (ipykernel)",
   "language": "python",
   "name": "python3"
  },
  "language_info": {
   "codemirror_mode": {
    "name": "ipython",
    "version": 3
   },
   "file_extension": ".py",
   "mimetype": "text/x-python",
   "name": "python",
   "nbconvert_exporter": "python",
   "pygments_lexer": "ipython3",
   "version": "3.12.7"
  }
 },
 "nbformat": 4,
 "nbformat_minor": 5
}
