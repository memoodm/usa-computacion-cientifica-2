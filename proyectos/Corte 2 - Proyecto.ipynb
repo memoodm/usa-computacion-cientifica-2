{
 "cells": [
  {
   "cell_type": "markdown",
   "id": "b9e207e0-6b5a-4b1d-a4da-1c81b0939010",
   "metadata": {},
   "source": [
    "<h1 style=\"color:red;\">Fecha entrega: Viernes 2 Mayo 2025</h1>"
   ]
  },
  {
   "cell_type": "markdown",
   "id": "a1e248a4-3bcd-409b-bcfd-3d8b57b82f15",
   "metadata": {},
   "source": [
    "# Proyecto corte 2 – Computación Científica 2  \n",
    "**Docente:** Guillermo De Mendoza  \n",
    "\n",
    "## Título del proyecto\n",
    "**Clasificación automática de dígitos escritos a mano usando redes neuronales**\n",
    "\n",
    "## Objetivo  \n",
    "Aplicar conceptos fundamentales de computación científica, aprendizaje automático y procesamiento de imágenes para desarrollar un sistema capaz de reconocer números escritos a mano. Este proyecto pondrá a prueba las habilidades de los estudiantes en programación, análisis de datos, entrenamiento de modelos y generalización de soluciones.\n",
    "\n",
    "## Descripción general  \n",
    "Los estudiantes deberán implementar, entrenar y evaluar una red neuronal multicapa para clasificar imágenes de números del 0 al 9. Una vez entrenada, la red deberá ser capaz de predecir correctamente una imagen de número generada por el propio estudiante en un programa de dibujo (como Paint), replicando así un caso real de entrada externa no vista por el modelo.\n",
    "\n",
    "## Componentes del proyecto\n",
    "\n",
    "### 1. Entrenamiento del modelo\n",
    "- Usar un dataset de imágenes de dígitos (por ejemplo, MNIST).\n",
    "- Implementar una red neuronal (Se permite usar frameworks de alto nivel como TensorFlow o PyTorch).\n",
    "- Entrenar el modelo con los datos etiquetados.\n",
    "- Evaluar la precisión del modelo sobre datos de prueba.\n",
    "\n",
    "### 2. Clasificación de una nueva imagen\n",
    "- Dibujar un número del 0 al 9 en un programa como Paint y guardarlo como imagen (.png o .jpg).\n",
    "- Preprocesar la imagen para adaptarla al formato de entrada del modelo (escala de grises, tamaño, normalización).\n",
    "- Usar el modelo previamente entrenado para predecir el número dibujado.\n",
    "\n",
    "### 3. Entrega de resultados\n",
    "- Mostrar ejemplos de predicciones del modelo (incluyendo la imagen nueva).\n",
    "- Analizar el funcionamiento y los errores del modelo y discutir posibles mejoras.\n",
    "\n",
    "## Entregables\n",
    "- Código completo y comentado (preferiblemente en **Jupyter Notebook** o **Google Colab**).\n",
    "- Imagen creada manualmente.\n",
    "- **Informe técnico** que incluya:\n",
    "  - Descripción del modelo y arquitectura usada.\n",
    "  - Estrategia de entrenamiento.\n",
    "  - Resultados y análisis.\n",
    "  - Capturas de pantalla del proceso y predicción de la imagen propia.\n",
    "- Presentación breve del proyecto (20 minutos estudiante).\n",
    "\n",
    "## Evaluación\n",
    "- Funcionamiento correcto del sistema: **30%**  \n",
    "- Preprocesamiento y predicción de imagen propia: **30%**  \n",
    "- Análisis y calidad del informe: **30%**  \n",
    "- Presentación oral: **10%**\n",
    "\n",
    "## Recomendaciones\n",
    "- Importar el set de imagenes con el siguiente codigo"
   ]
  },
  {
   "cell_type": "code",
   "execution_count": 10,
   "id": "7fbb4026-faa3-4af4-a16c-707dfc2579e0",
   "metadata": {},
   "outputs": [
    {
     "data": {
      "image/png": "[encoded data removed]",
      "text/plain": [
       "<Figure size 640x480 with 1 Axes>"
      ]
     },
     "metadata": {},
     "output_type": "display_data"
    }
   ],
   "source": [
    "from tensorflow.keras.datasets import mnist\n",
    "import matplotlib.pyplot as plt\n",
    "\n",
    "# Cargar los datos\n",
    "(x_train, y_train), (x_test, y_test) = mnist.load_data()\n",
    "\n",
    "# Mostrar una imagen de ejemplo\n",
    "image_index = 0\n",
    "plt.imshow(x_train[image_index], cmap='gray')\n",
    "plt.title(f\"Etiqueta: {y_train[image_index]}\")\n",
    "plt.show()"
   ]
  },
  {
   "cell_type": "code",
   "execution_count": null,
   "id": "cd0dc8b5-241c-490e-9712-a422594e9b94",
   "metadata": {},
   "outputs": [],
   "source": []
  }
 ],
 "metadata": {
  "kernelspec": {
   "display_name": "Python 3 (ipykernel)",
   "language": "python",
   "name": "python3"
  },
  "language_info": {
   "codemirror_mode": {
    "name": "ipython",
    "version": 3
   },
   "file_extension": ".py",
   "mimetype": "text/x-python",
   "name": "python",
   "nbconvert_exporter": "python",
   "pygments_lexer": "ipython3",
   "version": "3.12.7"
  }
 },
 "nbformat": 4,
 "nbformat_minor": 5
}
