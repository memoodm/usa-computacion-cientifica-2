{
 "cells": [
  {
   "cell_type": "markdown",
   "id": "3d37ba2c-3db4-468b-94f4-8c64f6a92b8e",
   "metadata": {},
   "source": [
    "# Implementacion"
   ]
  },
  {
   "cell_type": "code",
   "execution_count": 19,
   "id": "2142b129-11be-4a52-ab64-43e106572d93",
   "metadata": {},
   "outputs": [],
   "source": [
    "from collections import deque\n",
    "\n",
    "class Queue:\n",
    "\n",
    "    def __init__(self):\n",
    "        self.__memory = deque()\n",
    "\n",
    "    def __len__(self):\n",
    "        return len(self.__memory)\n",
    "\n",
    "    def __str__(self):\n",
    "        return f\"{self.__class__.__name__}({list(self.__memory)})\"\n",
    "\n",
    "    def push(self, element):\n",
    "        self.__memory.append(element)\n",
    "\n",
    "    def pop(self):\n",
    "        return self.__memory.popleft()\n",
    "\n",
    "    def is_empty(self):\n",
    "        return len(self.__memory) == 0"
   ]
  },
  {
   "cell_type": "markdown",
   "id": "95434d8d-b05b-4e8e-b7cd-84956bec84ab",
   "metadata": {},
   "source": [
    "# Test"
   ]
  },
  {
   "cell_type": "code",
   "execution_count": 22,
   "id": "a9cce1c9-7587-47bd-a3c5-c11fa6a025e5",
   "metadata": {},
   "outputs": [
    {
     "name": "stderr",
     "output_type": "stream",
     "text": [
      ".....\n",
      "----------------------------------------------------------------------\n",
      "Ran 5 tests in 0.003s\n",
      "\n",
      "OK\n"
     ]
    },
    {
     "name": "stdout",
     "output_type": "stream",
     "text": [
      "Errors: []\n",
      "Failures: []\n"
     ]
    }
   ],
   "source": [
    "import unittest\n",
    "\n",
    "class TestQueue(unittest.TestCase):\n",
    "\n",
    "    def setUp(self):\n",
    "        \"\"\"Este método se ejecuta antes de cada prueba.\"\"\"\n",
    "        self.queue = Queue()\n",
    "\n",
    "    def test_empty_queue_length(self):\n",
    "        \"\"\"Verifica que la longitud de una cola vacía sea 0.\"\"\"\n",
    "        self.assertEqual(len(self.queue), 0)\n",
    "\n",
    "    def test_push_elements(self):\n",
    "        \"\"\"Verifica que los elementos se agreguen correctamente.\"\"\"\n",
    "        self.queue.push(1)\n",
    "        self.queue.push(2)\n",
    "        self.queue.push(3)\n",
    "        self.assertEqual(len(self.queue), 3)\n",
    "        self.assertEqual(str(self.queue), \"Queue([1, 2, 3])\")\n",
    "\n",
    "    def test_pop_elements(self):\n",
    "        \"\"\"Verifica que los elementos se eliminen en orden FIFO.\"\"\"\n",
    "        self.queue.push(10)\n",
    "        self.queue.push(20)\n",
    "        self.queue.push(30)\n",
    "        self.assertEqual(self.queue.pop(), 10)\n",
    "        self.assertEqual(self.queue.pop(), 20)\n",
    "        self.assertEqual(len(self.queue), 1)\n",
    "        self.assertEqual(str(self.queue), \"Queue([30])\")\n",
    "\n",
    "    def test_pop_empty_queue(self):\n",
    "        \"\"\"Verifica que intentar eliminar de una cola vacía lance una excepción.\"\"\"\n",
    "        with self.assertRaises(IndexError):\n",
    "            self.queue.pop()\n",
    "\n",
    "    def test_str_representation(self):\n",
    "        \"\"\"Verifica la representación en string de la cola.\"\"\"\n",
    "        self.queue.push(\"a\")\n",
    "        self.queue.push(\"b\")\n",
    "        self.assertEqual(str(self.queue), \"Queue(['a', 'b'])\")\n",
    "        self.queue.pop()\n",
    "        self.assertEqual(str(self.queue), \"Queue(['b'])\")\n",
    "\n",
    "test_results = unittest.TextTestRunner().run(unittest.TestLoader().loadTestsFromTestCase(TestQueue))\n",
    "print(f\"Errors: { test_results.errors }\")\n",
    "print(f\"Failures: { test_results.failures }\")"
   ]
  }
 ],
 "metadata": {
  "kernelspec": {
   "display_name": "Python [conda env:base] *",
   "language": "python",
   "name": "conda-base-py"
  },
  "language_info": {
   "codemirror_mode": {
    "name": "ipython",
    "version": 3
   },
   "file_extension": ".py",
   "mimetype": "text/x-python",
   "name": "python",
   "nbconvert_exporter": "python",
   "pygments_lexer": "ipython3",
   "version": "3.12.7"
  }
 },
 "nbformat": 4,
 "nbformat_minor": 5
}
