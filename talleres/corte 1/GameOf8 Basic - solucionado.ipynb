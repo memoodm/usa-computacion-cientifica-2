{
 "cells": [
  {
   "attachments": {},
   "cell_type": "markdown",
   "id": "e43406ad-e28c-4111-94cf-cf065b0598f5",
   "metadata": {},
   "source": [
    "# GameOf8\n",
    "\n",
    "Documentation: https://en.wikipedia.org/wiki/15_puzzle\n",
    "\n",
    "Online game: https://gamescrafters.berkeley.edu/site-legacy-archive-sp20/games.php?puzzle=8puzzle\n",
    "\n",
    "Online tester: https://15puzzle.netlify.app/\n",
    "\n",
    "The 8 puzzle (also called Gem Puzzle, Boss Puzzle, Game of Fifteen, Mystic Square and more) is a sliding puzzle. It has 9 square tiles numbered 1 to 8 in a frame that is 3 tile positions high and 3 tile positions wide, with one unoccupied position. Tiles in the same row or column of the open position can be moved by sliding them horizontally or vertically, respectively. The goal of the puzzle is to place the tiles in numerical order (from left to right, top to bottom).\n",
    "\n",
    "<img src=\"https://camo.githubusercontent.com/d997a02627bad485c6cebc1d4f33eda25b4a65baae94a0a81c9dd6663b889118/68747470733a2f2f6d69726f2e6d656469756d2e636f6d2f6d61782f3932342f312a5978655a4a7a666857346b6e354f35774147626b49672e676966\" width=\"300\" height=\"300\">\n",
    "\n",
    "Goal:\n",
    "\n",
    "<img src=\"https://miro.medium.com/v2/resize:fit:281/1*IQ4oYMH3SCAriifZMdZA9w.png\" width=\"300\" height=\"300\">"
   ]
  },
  {
   "cell_type": "code",
   "execution_count": 35,
   "id": "20ef825f-2df0-43e9-9980-ac613e125839",
   "metadata": {},
   "outputs": [],
   "source": [
    "class Possition:\n",
    "\n",
    "    def __init__(self,x,y):\n",
    "        self.x = x\n",
    "        self.y = y\n",
    "\n",
    "    def __str__(self):\n",
    "        return f\"[x:{self.x},y:{self.y}]\"\n",
    "\n",
    "    def __repr__(self):\n",
    "        return f\"[x:{self.x},y:{self.y}]\""
   ]
  },
  {
   "cell_type": "code",
   "execution_count": 37,
   "id": "244e0e05-d067-4e3a-a843-56962be26091",
   "metadata": {},
   "outputs": [],
   "source": [
    "class Node:\n",
    "\n",
    "    def __init__(self,stage,move):\n",
    "        self.stage = stage\n",
    "        self.move = move\n",
    "        self.deep = None\n",
    "\n",
    "    def __str__(self):\n",
    "        return f\"[move: {self.move}, stage: {self.stage}, deep: {self.deep}]\"\n",
    "\n",
    "    def __repr__(self):\n",
    "        return f\"[x:{self.x},y:{self.y}]\""
   ]
  },
  {
   "cell_type": "code",
   "execution_count": 39,
   "id": "6266b044-6911-4c06-8842-68fb9b9f96fb",
   "metadata": {},
   "outputs": [],
   "source": [
    "import random\n",
    "import numpy as np\n",
    "import matplotlib.pyplot as plt\n",
    "\n",
    "class Game:\n",
    "\n",
    "    GOAL = [[1, 2, 3], [4, 5, 6], [7, 8, None]]\n",
    "    \n",
    "    \"\"\" \n",
    "        INIT CONSTRUCTOR\n",
    "        board: 4x4 int matrix\n",
    "    \"\"\"\n",
    "    def __init__(self, initial_board):\n",
    "        self.board = initial_board\n",
    "        self.possition_empty_space = self.__find_empty_space_possition()\n",
    "\n",
    "    \"\"\" \n",
    "        find the possition of the empty space as Possition object\n",
    "    \"\"\"\n",
    "    def __find_empty_space_possition(self):\n",
    "        for y in range(len(self.board)):\n",
    "            for x in range(len(self.board[y])):\n",
    "                if self.board[y][x] is None:\n",
    "                    return Possition(x=x, y=y)\n",
    "        raise Exception(\"There is not an empty space in the game\")\n",
    "\n",
    "    \"\"\" \n",
    "        return a copy of the actual game\n",
    "    \"\"\"\n",
    "    def __copy(self):\n",
    "        copy_board = [row[:] for row in self.board]\n",
    "        return Game(copy_board)\n",
    "\n",
    "    \"\"\" \n",
    "        show the actual board in a graphical view\n",
    "    \"\"\"\n",
    "    def show(self):\n",
    "        _, ax = plt.subplots()\n",
    "        plt.imshow(np.array([[0 if x is None else x for x in fila] for fila in self.board]), cmap=\"YlGn\", interpolation=\"nearest\",vmin=0, vmax=255)\n",
    "        ax.set_xticks(np.arange(-0.5, len(self.board), 1), minor=True)\n",
    "        ax.set_yticks(np.arange(-0.5, len(self.board[0]), 1), minor=True)\n",
    "        ax.grid(which=\"minor\", color=\"black\", linestyle=\"-\", linewidth=2)\n",
    "        ax.set_xticks([])\n",
    "        ax.set_yticks([])\n",
    "        for i in range(len(self.board)):\n",
    "            for j in range(len(self.board[0])):\n",
    "                value = self.board[i][j]\n",
    "                text = str(value) if value is not None else \" \"\n",
    "                ax.text(j, i, text, ha='center', va='center', color='black', fontsize=16, fontweight='bold')\n",
    "        plt.show()\n",
    "\n",
    "    \"\"\"\n",
    "        evaluate if the board have reached the target goal ?\n",
    "        return BOOLEAN\n",
    "    \"\"\"\n",
    "    def is_game_win(self):\n",
    "        return self.board == self.GOAL\n",
    "\n",
    "    \"\"\"\n",
    "        evaluate if the empty scuare can be move up ?\n",
    "        return BOOLEAN\n",
    "    \"\"\"\n",
    "    def is_allowed_move_up(self):\n",
    "        return self.possition_empty_space.y > 0\n",
    "\n",
    "    \"\"\"\n",
    "        evaluate if the empty scuare can be move down ?\n",
    "        return BOOLEAN\n",
    "    \"\"\"\n",
    "    def is_allowed_move_down(self):\n",
    "        return self.possition_empty_space.y < len(self.board) - 1\n",
    "\n",
    "    \"\"\"\n",
    "        evaluate if the empty scuare can be move left ?\n",
    "        return BOOLEAN\n",
    "    \"\"\"\n",
    "    def is_allowed_move_left(self):\n",
    "        return self.possition_empty_space.x > 0\n",
    "\n",
    "    \"\"\"\n",
    "        evaluate if the empty scuare can be move left ?\n",
    "        return BOOLEAN\n",
    "    \"\"\"\n",
    "    def is_allowed_move_right(self):\n",
    "        return self.possition_empty_space.x < len(self.board[0]) - 1\n",
    "\n",
    "    \"\"\"\n",
    "        modify the actual board by an up movement (empty scuare moves)\n",
    "    \"\"\"\n",
    "    def move_up(self):\n",
    "        self.board[self.possition_empty_space.y][self.possition_empty_space.x] = self.board[self.possition_empty_space.y-1][self.possition_empty_space.x]\n",
    "        self.board[self.possition_empty_space.y-1][self.possition_empty_space.x] = None\n",
    "        self.possition_empty_space.y -= 1\n",
    "    \n",
    "    \"\"\"\n",
    "        modify the actual board by an down movement (empty scuare moves)\n",
    "    \"\"\"\n",
    "    def move_down(self):\n",
    "        self.board[self.possition_empty_space.y][self.possition_empty_space.x] = self.board[self.possition_empty_space.y+1][self.possition_empty_space.x]\n",
    "        self.board[self.possition_empty_space.y+1][self.possition_empty_space.x] = None\n",
    "        self.possition_empty_space.y += 1\n",
    "\n",
    "    \"\"\"\n",
    "        modify the actual board by an left movement (empty scuare moves)\n",
    "    \"\"\"\n",
    "    def move_left(self):\n",
    "        self.board[self.possition_empty_space.y][self.possition_empty_space.x] = self.board[self.possition_empty_space.y][self.possition_empty_space.x-1]\n",
    "        self.board[self.possition_empty_space.y][self.possition_empty_space.x-1] = None\n",
    "        self.possition_empty_space.x -= 1\n",
    "\n",
    "    \"\"\"\n",
    "        modify the actual board by an right movement (empty scuare moves)\n",
    "    \"\"\"\n",
    "    def move_right(self):\n",
    "        self.board[self.possition_empty_space.y][self.possition_empty_space.x] = self.board[self.possition_empty_space.y][self.possition_empty_space.x+1]\n",
    "        self.board[self.possition_empty_space.y][self.possition_empty_space.x+1] = None\n",
    "        self.possition_empty_space.x += 1\n",
    "\n",
    "    \"\"\"\n",
    "        obtain the next possible game boards\n",
    "        !dont modify the actual board!\n",
    "        return List of 3x3 matrix (boards) and movement \n",
    "        in a NODE\n",
    "    \"\"\"\n",
    "    def next_allowed_moves(self):\n",
    "        next_nodes = []\n",
    "        if self.is_allowed_move_up():\n",
    "            copy_game = self.__copy()\n",
    "            copy_game.move_up()\n",
    "            next_node = Node(copy_game.board, \"UP\")\n",
    "            next_nodes.append( next_node ) \n",
    "        if self.is_allowed_move_down():\n",
    "            copy_game = self.__copy()\n",
    "            copy_game.move_down()\n",
    "            next_node = Node(copy_game.board, \"DOWN\")\n",
    "            next_nodes.append( next_node ) \n",
    "        if self.is_allowed_move_left():\n",
    "            copy_game = self.__copy()\n",
    "            copy_game.move_left()\n",
    "            next_node = Node(copy_game.board, \"LEFT\")\n",
    "            next_nodes.append( next_node ) \n",
    "        if self.is_allowed_move_right():\n",
    "            copy_game = self.__copy()\n",
    "            copy_game.move_right()\n",
    "            next_node = Node(copy_game.board, \"RIGHT\")\n",
    "            next_nodes.append( next_node ) \n",
    "        return next_nodes"
   ]
  },
  {
   "cell_type": "markdown",
   "id": "ba1038e7-c1f2-4756-bdd9-6ca355c3ea20",
   "metadata": {},
   "source": [
    "# TEST"
   ]
  },
  {
   "cell_type": "code",
   "execution_count": 41,
   "id": "4762ebb0-7096-48a4-b451-23b05b88f44e",
   "metadata": {},
   "outputs": [
    {
     "data": {
      "image/png": "[encoded data removed]",
      "text/plain": [
       "<Figure size 640x480 with 1 Axes>"
      ]
     },
     "metadata": {},
     "output_type": "display_data"
    }
   ],
   "source": [
    "initial_board = [[5, 3, 7], [8, 2, 1], [6, 4, None]]\n",
    "game = Game( initial_board )\n",
    "game.show()"
   ]
  },
  {
   "cell_type": "code",
   "execution_count": 43,
   "id": "39b99abf-05fa-4dbc-ae98-d5f81525ed4f",
   "metadata": {},
   "outputs": [
    {
     "data": {
      "text/plain": [
       "False"
      ]
     },
     "execution_count": 43,
     "metadata": {},
     "output_type": "execute_result"
    }
   ],
   "source": [
    "game.is_game_win()"
   ]
  },
  {
   "cell_type": "code",
   "execution_count": 45,
   "id": "d850e860-1873-4b88-8080-e75853791b8c",
   "metadata": {},
   "outputs": [
    {
     "data": {
      "text/plain": [
       "[x:2,y:2]"
      ]
     },
     "execution_count": 45,
     "metadata": {},
     "output_type": "execute_result"
    }
   ],
   "source": [
    "game.possition_empty_space"
   ]
  },
  {
   "cell_type": "code",
   "execution_count": 47,
   "id": "e3fc8aec-6345-43e2-9c6c-360425adbd01",
   "metadata": {},
   "outputs": [
    {
     "name": "stdout",
     "output_type": "stream",
     "text": [
      "can move-up?  True\n",
      "can move-down?  False\n",
      "can move-left?  True\n",
      "can move-right?  False\n"
     ]
    }
   ],
   "source": [
    "print( \"can move-up? \", game.is_allowed_move_up() )\n",
    "print( \"can move-down? \", game.is_allowed_move_down() )\n",
    "print( \"can move-left? \", game.is_allowed_move_left() )\n",
    "print( \"can move-right? \", game.is_allowed_move_right() )"
   ]
  },
  {
   "cell_type": "code",
   "execution_count": 49,
   "id": "b98609f3-747a-4276-944c-143150641859",
   "metadata": {},
   "outputs": [
    {
     "data": {
      "image/png": "[encoded data removed]",
      "text/plain": [
       "<Figure size 640x480 with 1 Axes>"
      ]
     },
     "metadata": {},
     "output_type": "display_data"
    }
   ],
   "source": [
    "game.move_up()\n",
    "game.show()"
   ]
  },
  {
   "cell_type": "code",
   "execution_count": 51,
   "id": "a3c6d76d-516e-4dca-be81-8a7a41057087",
   "metadata": {},
   "outputs": [
    {
     "data": {
      "image/png": "[encoded data removed]",
      "text/plain": [
       "<Figure size 640x480 with 1 Axes>"
      ]
     },
     "metadata": {},
     "output_type": "display_data"
    }
   ],
   "source": [
    "game.move_down()\n",
    "game.show()"
   ]
  },
  {
   "cell_type": "code",
   "execution_count": 53,
   "id": "2acb96af-e744-4311-acbd-f3248abab5f6",
   "metadata": {},
   "outputs": [
    {
     "data": {
      "image/png": "[encoded data removed]",
      "text/plain": [
       "<Figure size 640x480 with 1 Axes>"
      ]
     },
     "metadata": {},
     "output_type": "display_data"
    }
   ],
   "source": [
    "game.move_left()\n",
    "game.show()"
   ]
  },
  {
   "cell_type": "code",
   "execution_count": 55,
   "id": "eed2320a-d5d1-4768-ac04-af688ed1ce93",
   "metadata": {},
   "outputs": [
    {
     "data": {
      "image/png": "[encoded data removed]",
      "text/plain": [
       "<Figure size 640x480 with 1 Axes>"
      ]
     },
     "metadata": {},
     "output_type": "display_data"
    }
   ],
   "source": [
    "game.move_right()\n",
    "game.show()"
   ]
  },
  {
   "cell_type": "code",
   "execution_count": 57,
   "id": "b416e78b-28a3-4c63-b09b-fb1e08183ad1",
   "metadata": {},
   "outputs": [
    {
     "data": {
      "image/png": "[encoded data removed]",
      "text/plain": [
       "<Figure size 640x480 with 1 Axes>"
      ]
     },
     "metadata": {},
     "output_type": "display_data"
    },
    {
     "name": "stdout",
     "output_type": "stream",
     "text": [
      "can move-up?  True\n",
      "can move-down?  False\n",
      "can move-left?  True\n",
      "can move-right?  False\n"
     ]
    }
   ],
   "source": [
    "game.show()\n",
    "print( \"can move-up? \", game.is_allowed_move_up() )\n",
    "print( \"can move-down? \", game.is_allowed_move_down() )\n",
    "print( \"can move-left? \", game.is_allowed_move_left() )\n",
    "print( \"can move-right? \", game.is_allowed_move_right() )"
   ]
  },
  {
   "cell_type": "code",
   "execution_count": 59,
   "id": "ac1bd19c-a704-44c3-98f9-326e4114121e",
   "metadata": {},
   "outputs": [
    {
     "name": "stdout",
     "output_type": "stream",
     "text": [
      "next_nodes:  2\n"
     ]
    }
   ],
   "source": [
    "moves = game.next_allowed_moves()\n",
    "print(\"next_nodes: \",len(moves))"
   ]
  },
  {
   "cell_type": "code",
   "execution_count": 61,
   "id": "aafe02d2-63b6-43e1-83fb-48927a9921bd",
   "metadata": {},
   "outputs": [
    {
     "name": "stdout",
     "output_type": "stream",
     "text": [
      "None:  [move: UP, stage: [[5, 3, 7], [8, 2, None], [6, 4, 1]], deep: None]\n",
      "None:  [move: LEFT, stage: [[5, 3, 7], [8, 2, 1], [6, None, 4]], deep: None]\n"
     ]
    }
   ],
   "source": [
    "for move in moves:\n",
    "    print( \"None: \", move )"
   ]
  },
  {
   "cell_type": "code",
   "execution_count": null,
   "id": "8e2069be-6279-4c2a-8ef9-fa6d8a9b76f1",
   "metadata": {},
   "outputs": [],
   "source": []
  }
 ],
 "metadata": {
  "kernelspec": {
   "display_name": "Python 3 (ipykernel)",
   "language": "python",
   "name": "python3"
  },
  "language_info": {
   "codemirror_mode": {
    "name": "ipython",
    "version": 3
   },
   "file_extension": ".py",
   "mimetype": "text/x-python",
   "name": "python",
   "nbconvert_exporter": "python",
   "pygments_lexer": "ipython3",
   "version": "3.12.7"
  }
 },
 "nbformat": 4,
 "nbformat_minor": 5
}
