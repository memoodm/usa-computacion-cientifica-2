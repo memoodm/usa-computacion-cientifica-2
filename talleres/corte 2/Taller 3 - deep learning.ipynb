{
 "cells": [
  {
   "cell_type": "markdown",
   "id": "371adeab-ad9d-4904-b010-faeaec329404",
   "metadata": {},
   "source": [
    "<h1 style=\"color:red;\">Fecha entrega: Viernes 11 Abril 2025 - maximo 8:00PM</h1>"
   ]
  },
  {
   "cell_type": "markdown",
   "id": "ddfad30e-6be9-4e75-9f25-4672007721b8",
   "metadata": {},
   "source": [
    "# Taller 3 - Deep Learning\n",
    "\n",
    "Fuente: tutoriales de tensorflow.org, keras classification\n",
    "\n",
    "# Introduccion\n",
    "\n",
    "La anterior clase exploramos los temas relacionados al Perceptron, en este taller a modo de continuacion y de forma practica, vamos a ver \"Redes neuronales\"\n",
    "\n",
    "Aunque un Perceptron (unica neurona) es útil para resolver problemas simples de clasificación (como AND o OR), el perceptrón no puede resolver problemas no lineales, como la compuerta lógica XOR. Aquí es donde entra el siguiente paso evolutivo.\n",
    "\n",
    "Para superar las limitaciones del perceptrón simple, se conectan varias neuronas en capas:\n",
    "\n",
    "<img src=\"https://i.ytimg.com/vi/aircAruvnKk/maxresdefault.jpg\">\n",
    "\n",
    "### ¿Por qué son más poderosas las redes neuronales?\n",
    "\n",
    "Una sola neurona (perceptrón) solo puede aprender funciones lineales.\n",
    "\n",
    "Al tener múltiples capas y funciones de activación no lineales (como ReLU, tanh, etc.), las redes pueden aprender patrones complejos y no lineales.\n",
    "\n",
    "Se pueden aplicar a tareas como reconocimiento de imágenes, voz, lenguaje natural, etc.\n",
    "\n",
    "### 🏗️ Estructura típica:\n",
    "\n",
    "Capa de entrada: donde entran los datos (como pixeles de una imagen o características de un objeto).\n",
    "\n",
    "Capas ocultas: aquí está la magia. Las neuronas procesan los datos de forma más compleja. Puedes tener una o muchas capas ocultas.\n",
    "\n",
    "Capa de salida: da el resultado final (por ejemplo, \"es un gato\" o \"es un perro\").\n",
    "\n",
    "### 🔄 ¿Cómo funciona?\n",
    "\n",
    "Cada neurona en una capa está conectada a todas las neuronas de la siguiente capa.\n",
    "\n",
    "Cada conexión tiene un peso ajustable.\n",
    "\n",
    "Durante el entrenamiento, el algoritmo ajusta los pesos para minimizar el error, usando técnicas como backpropagation y descenso del gradiente\n",
    "\n",
    "# Seguir los pasos de este taller, y responder las preguntas al final"
   ]
  },
  {
   "cell_type": "markdown",
   "id": "7cdbb0e9-1917-4a55-9a7e-1905241c2629",
   "metadata": {},
   "source": [
    "Esta Guia entrena un modelo de red neuronal para clasificar imagenes de ropa como, tennis y camisetas. No hay problema sino entiende todos los detalles; es un repaso rapido de un programa completo de Tensorflow con los detalles explicados a medida que avanza.\n",
    "\n",
    "Esta Guia usa tf.keras, un API de alto nivel para construir y entrenar modelos en Tensorflow."
   ]
  },
  {
   "cell_type": "markdown",
   "id": "32ca08fe-d62e-4ce3-806c-be033269b39c",
   "metadata": {},
   "source": [
    "# Importar los datos"
   ]
  },
  {
   "cell_type": "code",
   "execution_count": null,
   "id": "d388fc47-fa05-4810-90a8-f4c54a1e07cb",
   "metadata": {},
   "outputs": [],
   "source": [
    "# TensorFlow y tf.keras\n",
    "import tensorflow as tf\n",
    "from tensorflow import keras\n",
    "\n",
    "# Librerias de ayuda\n",
    "import numpy as np\n",
    "import matplotlib.pyplot as plt\n",
    "\n",
    "print(tf.__version__)"
   ]
  },
  {
   "cell_type": "markdown",
   "id": "f4589ee9-e94d-4b9a-a31f-8132ea1cb08f",
   "metadata": {},
   "source": [
    "# Explorar los datos"
   ]
  },
  {
   "cell_type": "markdown",
   "id": "7bdf7d53-6594-4cce-af24-307a85786526",
   "metadata": {},
   "source": [
    "Importar el set de datos de moda de MNIST\n",
    "\n",
    "Esta guia usa el set de datos de Fashion MNIST que contiene mas de 70,000 imagenes en 10 categorias. Las imagenes muestran articulos individuales de ropa a una resolucion baja (28 por 28 pixeles)\n",
    "\n",
    "Moda MNIST esta construida como un reemplazo para el set de datos clasico MNIST casi siempre utilizado como el \"Hola Mundo\" de programas de aprendizaje automatico (ML) para computo de vision. El set de datos de MNIST contiene imagenes de digitos escrito a mano (0, 1, 2, etc.) en un formato identico al de los articulos de ropa que va a utilizar aca.\n",
    "\n",
    "Esta guia utiliza Moda MNIST para variedad y por que es un poco mas retador que la regular MNIST. Ambos set de datos son relativamente pequenos y son usados para verificar que el algoritmo funciona como debe.\n",
    "\n",
    "Aca, 60,000 imagenes son usadas para entrenar la red neuronal y 10,000 imagenes son usadas para evaluar que tan exacto aprendia la red a clasificar imagenes. Pueden acceder al set de moda de MNIST directamente desde TensorFlow. Para importar y cargar el set de datos de MNIST directamente de TensorFlow:"
   ]
  },
  {
   "cell_type": "code",
   "execution_count": null,
   "id": "86ea9f26-82f4-4575-ab43-eddbd31116a1",
   "metadata": {},
   "outputs": [],
   "source": [
    "fashion_mnist = keras.datasets.fashion_mnist\n",
    "\n",
    "(train_images, train_labels), (test_images, test_labels) = fashion_mnist.load_data()"
   ]
  },
  {
   "cell_type": "markdown",
   "id": "b5a089ad-29bd-4f5e-be4d-d89902efd4ab",
   "metadata": {},
   "source": [
    "Al cargar el set de datos retorna cuatro arreglos en NumPy:\n",
    "\n",
    "El arreglo train_images y train_labels son los arreglos que training set—el modelo de datos usa para aprender.\n",
    "el modelo es probado contra los arreglos test set, el test_images, y test_labels.\n",
    "\n",
    "Las imagenes son 28x28 arreglos de NumPy, con valores de pixel que varian de 0 a 255. Los labels son un arreglo de integros, que van del 0 al 9. Estos corresponden a la class de ropa que la imagen representa.\n",
    "\n",
    "Cada imagen es mapeada a una unica etiqueta. Ya que los Class names no estan incluidoen el dataset, almacenelo aca para usarlos luego cuando se visualicen las imagenes:\n"
   ]
  },
  {
   "cell_type": "code",
   "execution_count": null,
   "id": "ed24fc0a-9e06-404a-bd32-d03a86269775",
   "metadata": {},
   "outputs": [],
   "source": [
    "class_names = [\n",
    "    'T-shirt/top', \n",
    "    'Trouser', \n",
    "    'Pullover', \n",
    "    'Dress', \n",
    "    'Coat',\n",
    "    'Sandal', \n",
    "    'Shirt', \n",
    "    'Sneaker', \n",
    "    'Bag', \n",
    "    'Ankle boot'\n",
    "]\n",
    "\n",
    "for i in range(len(class_names)):\n",
    "    print(i,\" -> \",class_names[i])"
   ]
  },
  {
   "cell_type": "code",
   "execution_count": null,
   "id": "bec62691-593e-4775-a013-4296f021b238",
   "metadata": {},
   "outputs": [],
   "source": [
    "# train images and labels\n",
    "\n",
    "IMAGE_INDEX = 100\n",
    "\n",
    "print(\"Train images: \",train_images.shape)\n",
    "print(\"Train labels: \",train_labels.shape)\n",
    "\n",
    "plt.figure()\n",
    "plt.title(f\"Label index: {train_labels[IMAGE_INDEX]}, Label conversion: '{class_names[train_labels[IMAGE_INDEX]]}'\")\n",
    "plt.imshow(train_images[IMAGE_INDEX])\n",
    "plt.colorbar()\n",
    "plt.grid(False)\n",
    "plt.show()"
   ]
  },
  {
   "cell_type": "code",
   "execution_count": null,
   "id": "f08255fe-d57c-4c57-af46-73a558dad4c1",
   "metadata": {},
   "outputs": [],
   "source": [
    "# test image and labels\n",
    "\n",
    "IMAGE_INDEX = 100\n",
    "\n",
    "print(\"Train images: \",test_images.shape)\n",
    "print(\"Train labels: \",test_labels.shape)\n",
    "\n",
    "plt.figure()\n",
    "plt.title(f\"Label index: {test_labels[IMAGE_INDEX]}, Label conversion: '{class_names[test_labels[IMAGE_INDEX]]}'\")\n",
    "plt.imshow(test_images[IMAGE_INDEX])\n",
    "plt.colorbar()\n",
    "plt.grid(False)\n",
    "plt.show()"
   ]
  },
  {
   "cell_type": "markdown",
   "id": "bf824f51-36bc-4986-a130-01a2b4545a5f",
   "metadata": {},
   "source": [
    "Escale estos valores en un rango de 0 a 1 antes de alimentarlos al modelo de la red neuronal. Para hacero, divida los valores por 255. Es importante que el training set y el testing set se pre-procesen de la misma forma:"
   ]
  },
  {
   "cell_type": "code",
   "execution_count": null,
   "id": "e036e488-1e1e-4ea8-ac65-a57dbfdf14bd",
   "metadata": {},
   "outputs": [],
   "source": [
    "train_images = train_images / 255.0\n",
    "\n",
    "test_images = test_images / 255.0"
   ]
  },
  {
   "cell_type": "markdown",
   "id": "74871557-adb6-411c-a1bd-07b74488667a",
   "metadata": {},
   "source": [
    "Para verificar que el set de datos esta en el formato adecuado y que estan listos para construir y entrenar la red, vamos a desplegar las primeras 25 imagenes de el training set y despleguemos el nombre de cada clase debajo de cada imagen."
   ]
  },
  {
   "cell_type": "code",
   "execution_count": null,
   "id": "19d22266-edc3-4219-b786-c780dab0871b",
   "metadata": {},
   "outputs": [],
   "source": [
    "plt.figure(figsize=(10,10))\n",
    "for i in range(25):\n",
    "    plt.subplot(5,5,i+1)\n",
    "    plt.xticks([])\n",
    "    plt.yticks([])\n",
    "    plt.grid(False)\n",
    "    plt.imshow(train_images[i], cmap=plt.cm.binary)\n",
    "    plt.xlabel(class_names[train_labels[i]])\n",
    "plt.show()"
   ]
  },
  {
   "cell_type": "markdown",
   "id": "4a760800-4c40-4f82-bf84-d936b4a45383",
   "metadata": {},
   "source": [
    "# Construir el Modelo\n",
    "\n",
    "Construir la red neuronal requiere configurar las capas del modelo y luego compilar el modelo.\n",
    "\n",
    "Configurar las Capas\n",
    "Los bloques de construccion basicos de una red neuronal son las capas o layers. Las capas extraen representaciones de el set de datos que se les alimentan. Con suerte, estas representaciones son considerables para el problema que estamos solucionando.\n",
    "\n",
    "La mayoria de aprendizaje profundo consiste de unir capas sencillas. La mayoria de las capas como tf.keras.layers.Dense, tienen parametros que son aprendidos durante el entrenamiento."
   ]
  },
  {
   "cell_type": "code",
   "execution_count": null,
   "id": "e1a222fc-b1a7-4129-8722-041951f30c35",
   "metadata": {},
   "outputs": [],
   "source": [
    "# ignorar el warning\n",
    "model = keras.Sequential([\n",
    "    keras.layers.Flatten(input_shape=(28, 28)),\n",
    "    keras.layers.Dense(128, activation='relu'),\n",
    "    keras.layers.Dense(10, activation='softmax')\n",
    "])"
   ]
  },
  {
   "cell_type": "markdown",
   "id": "b8ccb599-2226-46f3-86c3-52e86ab271a0",
   "metadata": {},
   "source": [
    "La primera capa de esta red, tf.keras.layers.Flatten, transforma el formato de las imagenes de un arreglo bi-dimensional (de 28 por 28 pixeles) a un arreglo uni dimensional (de 28*28 pixeles = 784 pixeles). Observe esta capa como una capa no apilada de filas de pixeles en la misma imagen y alineandolo. Esta capa no tiene parametros que aprender; solo reformatea el set de datos.\n",
    "\n",
    "Despues de que los pixeles estan \"aplanados\", la secuencia consiste de dos capastf.keras.layers.Dense. Estas estan densamente conectadas, o completamente conectadas. La primera capa Dense tiene 128 nodos (o neuronas). La segunda (y ultima) capa es una capa de 10 nodos softmax que devuelve un arreglo de 10 probabilidades que suman a 1. Cada nodo contiene una calificacion que indica la probabilidad que la actual imagen pertenece a una de las 10 clases.\n",
    "\n",
    "Compile el modelo\n",
    "Antes de que el modelo este listo para entrenar , se necesitan algunas configuraciones mas. Estas son agregadas durante el paso de compilacion del modelo:\n",
    "\n",
    "- Loss function —Esto mide que tan exacto es el modelo durante el entrenamiento. Quiere minimizar esta funcion para dirigir el modelo en la direccion adecuada.\n",
    "- Optimizer — Esto es como el modelo se actualiza basado en el set de datos que ve y la funcion de perdida.\n",
    "- Metrics — Se usan para monitorear los pasos de entrenamiento y de pruebas. El siguiente ejemplo usa accuracy (exactitud) , la fraccion de la imagenes que son correctamente clasificadas."
   ]
  },
  {
   "cell_type": "code",
   "execution_count": null,
   "id": "a68644c4-c3d2-466a-923a-ee5a78fa6e4b",
   "metadata": {},
   "outputs": [],
   "source": [
    "model.compile(optimizer='adam',\n",
    "              loss='sparse_categorical_crossentropy',\n",
    "              metrics=['accuracy'])"
   ]
  },
  {
   "cell_type": "markdown",
   "id": "1bd301c8-2d09-4c4a-9bb9-8119c1c2f63c",
   "metadata": {},
   "source": [
    "# Entrenar el Modelo\n",
    "\n",
    "Entrenar el modelo de red neuronal requiere de los siguientes pasos:\n",
    "\n",
    "1. Entregue los datos de entrenamiento al modelo. En este ejemplo , el set de datos de entrenamiento estan en los arreglos train_images y train_labels.\n",
    "\n",
    "2. El modelo aprende a asociar imagenes y etiquetas.\n",
    "\n",
    "3. Usted le pregunta al modelo que haga predicciones sobre un set de datos que se encuentran en el ejemplo,incluido en el arreglo test_images. Verifique que las predicciones sean iguales a las etiquetas de el arreglotest_labels.\n",
    "\n",
    "Para comenzar a entrenar, llame el metodo model.fit, es llamado asi por que fit (ajusta) el modelo a el set de datos de entrenamiento:"
   ]
  },
  {
   "cell_type": "code",
   "execution_count": null,
   "id": "d7f62ec4-2884-47dc-a227-0844da35069b",
   "metadata": {},
   "outputs": [],
   "source": [
    "model.fit(train_images, train_labels, epochs=10)"
   ]
  },
  {
   "cell_type": "markdown",
   "id": "a6c0bfc8-d09d-4492-9fce-a587a79487a7",
   "metadata": {},
   "source": [
    "A medida que el modelo entrena, la perdida y la exactitud son desplegadas. Este modelo alcanza una exactitud de 0.88 (o 88%) sobre el set de datos de entrenamiento."
   ]
  },
  {
   "cell_type": "markdown",
   "id": "f6ee3d1d-4a0d-4dde-9372-35d31a53d9fc",
   "metadata": {},
   "source": [
    "# Evaluar Exactitud"
   ]
  },
  {
   "cell_type": "code",
   "execution_count": null,
   "id": "c718708a-1dc3-464c-8e5b-e3dc17e5f71a",
   "metadata": {},
   "outputs": [],
   "source": [
    "test_loss, test_acc = model.evaluate(test_images,  test_labels, verbose=2)\n",
    "\n",
    "print('\\nTest accuracy:', test_acc)"
   ]
  },
  {
   "cell_type": "markdown",
   "id": "e932c67d-fece-43b5-ad94-d0d4f9d72eba",
   "metadata": {},
   "source": [
    "Resulta que la exactitud sobre el set de datos es un poco menor que la exactitud sobre el set de entrenamiento. Esta diferencia entre el entrenamiento y el test se debe a overfitting (sobre ajuste). Sobre ajuste sucede cuando un modelo de aprendizaje de maquina (ML) tiene un rendimiento peor sobre un set de datos nuevo, que nunca antes ha visto comparado con el de entrenamiento."
   ]
  },
  {
   "cell_type": "markdown",
   "id": "a1268c52-849e-46d4-b219-3ee15908e03c",
   "metadata": {},
   "source": [
    "# Hacer predicciones\n",
    "\n",
    "Con el modelo entrenado usted puede usarlo para hacer predicciones sobre imagenes.\n",
    "\n"
   ]
  },
  {
   "cell_type": "code",
   "execution_count": null,
   "id": "b7c62f01-c285-41a1-9dd3-248359cf3d30",
   "metadata": {},
   "outputs": [],
   "source": [
    "predictions = model.predict(test_images)"
   ]
  },
  {
   "cell_type": "markdown",
   "id": "4e575b54-e4b3-4571-ae37-41b00a5f904f",
   "metadata": {},
   "source": [
    "Aca, el modelo ha predecido la etiqueta para cada imagen en el set de datos de test (prueba). Miremos la primera prediccion: TEST_IMAGE_INDEX = 0"
   ]
  },
  {
   "cell_type": "code",
   "execution_count": null,
   "id": "152de16b-a5ee-4212-8bce-d44dd8d00522",
   "metadata": {},
   "outputs": [],
   "source": [
    "TEST_IMAGE_INDEX = 0"
   ]
  },
  {
   "cell_type": "code",
   "execution_count": null,
   "id": "e8eb5ceb-698d-4b0a-891a-cdfe74e9bedb",
   "metadata": {},
   "outputs": [],
   "source": [
    "predictions[TEST_IMAGE_INDEX]"
   ]
  },
  {
   "cell_type": "code",
   "execution_count": null,
   "id": "54e72b96-a26d-4038-9ae8-38e4412b6ee6",
   "metadata": {},
   "outputs": [],
   "source": [
    "for i in range(len(predictions[TEST_IMAGE_INDEX])):\n",
    "    print(f\"{predictions[0][i]*100:.2f}% -> Tag: {class_names[i]}\")"
   ]
  },
  {
   "cell_type": "code",
   "execution_count": null,
   "id": "0541cae9-46a7-4d71-80f8-51ce275780e4",
   "metadata": {},
   "outputs": [],
   "source": [
    "plt.figure()\n",
    "plt.title(f\"Label index: {test_labels[TEST_IMAGE_INDEX]}, Label conversion: '{class_names[test_labels[TEST_IMAGE_INDEX]]}'\")\n",
    "plt.imshow(test_images[TEST_IMAGE_INDEX])\n",
    "plt.colorbar()\n",
    "plt.grid(False)\n",
    "plt.show()"
   ]
  },
  {
   "cell_type": "markdown",
   "id": "a3476c78-d986-40a4-91c4-08ba75fa373f",
   "metadata": {},
   "source": [
    "una prediccion es un arreglo de 10 numeros. Estos representan el nivel de \"confianza\" del modelo sobre las imagenes de cada uno de los 10 articulos de moda/ropa. Ustedes pueden revisar cual tiene el nivel mas alto de confianza:"
   ]
  },
  {
   "cell_type": "code",
   "execution_count": null,
   "id": "eb614742-5cf2-47ee-ad40-0fe69c1d6dca",
   "metadata": {},
   "outputs": [],
   "source": [
    "np.argmax(predictions[0])"
   ]
  },
  {
   "cell_type": "markdown",
   "id": "98f6c556-0caa-4aa1-ac4f-cbd14e5c61b6",
   "metadata": {},
   "source": [
    "Entonces,el modelo tiene mayor confianza que esta imagen es un bota de tobillo \"ankle boot\" o class_names[9]. Examinando las etiquetas de test o de pruebas muestra que esta clasificaion es correcta:"
   ]
  },
  {
   "cell_type": "code",
   "execution_count": null,
   "id": "3af327db-1df6-45cb-b777-3d4bd5ee2ba1",
   "metadata": {},
   "outputs": [],
   "source": [
    "test_labels[0]"
   ]
  },
  {
   "cell_type": "markdown",
   "id": "f71bb899-586c-4cb7-9a8b-4fd2b32acc23",
   "metadata": {},
   "source": [
    "Grafique esto para poder ver todo el set de la prediccion de las 10 clases."
   ]
  },
  {
   "cell_type": "code",
   "execution_count": null,
   "id": "af3dffbb-bdbe-4af0-9983-cb6972d76b40",
   "metadata": {},
   "outputs": [],
   "source": [
    "def plot_image(i, predictions_array, true_label, img):\n",
    "  predictions_array, true_label, img = predictions_array, true_label[i], img[i]\n",
    "  plt.grid(False)\n",
    "  plt.xticks([])\n",
    "  plt.yticks([])\n",
    "\n",
    "  plt.imshow(img, cmap=plt.cm.binary)\n",
    "\n",
    "  predicted_label = np.argmax(predictions_array)\n",
    "  if predicted_label == true_label:\n",
    "    color = 'blue'\n",
    "  else:\n",
    "    color = 'red'\n",
    "\n",
    "  plt.xlabel(\"{} {:2.0f}% ({})\".format(class_names[predicted_label],\n",
    "                                100*np.max(predictions_array),\n",
    "                                class_names[true_label]),\n",
    "                                color=color)\n",
    "\n",
    "def plot_value_array(i, predictions_array, true_label):\n",
    "  predictions_array, true_label = predictions_array, true_label[i]\n",
    "  plt.grid(False)\n",
    "  plt.xticks(range(10))\n",
    "  plt.yticks([])\n",
    "  thisplot = plt.bar(range(10), predictions_array, color=\"#777777\")\n",
    "  plt.ylim([0, 1])\n",
    "  predicted_label = np.argmax(predictions_array)\n",
    "\n",
    "  thisplot[predicted_label].set_color('red')\n",
    "  thisplot[true_label].set_color('blue')"
   ]
  },
  {
   "cell_type": "markdown",
   "id": "6caddabc-aa53-41a5-820c-3025974f6718",
   "metadata": {},
   "source": [
    "Miremos algunas imagenes, sus predicciones y el arreglo de predicciones. Las etiquetas de prediccion correctas estan en azul y las incorrectas estan en rojo. El numero entrega el porcentaje (sobre 100) para la etiqueta predecida."
   ]
  },
  {
   "cell_type": "code",
   "execution_count": null,
   "id": "a474ff20-bb41-439a-8b9d-a15ae7ff00d8",
   "metadata": {},
   "outputs": [],
   "source": [
    "num_rows = 5\n",
    "num_cols = 3\n",
    "num_images = num_rows*num_cols\n",
    "plt.figure(figsize=(2*2*num_cols, 2*num_rows))\n",
    "for i in range(num_images):\n",
    "  plt.subplot(num_rows, 2*num_cols, 2*i+1)\n",
    "  plot_image(i, predictions[i], test_labels, test_images)\n",
    "  plt.subplot(num_rows, 2*num_cols, 2*i+2)\n",
    "  plot_value_array(i, predictions[i], test_labels)\n",
    "plt.tight_layout()\n",
    "plt.show()"
   ]
  },
  {
   "cell_type": "code",
   "execution_count": null,
   "id": "53e9f780-63eb-4321-bde5-2a3274f3fa29",
   "metadata": {},
   "outputs": [],
   "source": [
    "num_rows = 5\n",
    "num_cols = 3\n",
    "num_images = num_rows*num_cols\n",
    "plt.figure(figsize=(2*2*num_cols, 2*num_rows))\n",
    "for i in range(num_images):\n",
    "  plt.subplot(num_rows, 2*num_cols, 2*i+1)\n",
    "  plot_image(i+15, predictions[i+15], test_labels, test_images)\n",
    "  plt.subplot(num_rows, 2*num_cols, 2*i+2)\n",
    "  plot_value_array(i+15, predictions[i+15], test_labels)\n",
    "plt.tight_layout()\n",
    "plt.show()"
   ]
  },
  {
   "cell_type": "markdown",
   "id": "116b2028-7a72-47fb-8f5f-0bccc330bebb",
   "metadata": {},
   "source": [
    "Finalmente, usamos el modelo entrenado para hacer una prediccion sobre una unica imagen.\n",
    "\n",
    "Los modelos de tf.keras son optimizados sobre batch o bloques, o coleciones de ejemplos por vez. De acuerdo a esto, aunque use una unica imagen toca agregarla a una lista"
   ]
  },
  {
   "cell_type": "code",
   "execution_count": null,
   "id": "39993edc-f5f7-475b-938d-ce8bd41efaf5",
   "metadata": {},
   "outputs": [],
   "source": [
    "# Grab an image from the test dataset.\n",
    "img = test_images[1]\n",
    "img = (np.expand_dims(img,0))\n",
    "\n",
    "print(img.shape)"
   ]
  },
  {
   "cell_type": "markdown",
   "id": "249f1ff7-4876-4e28-a848-722add0f8d06",
   "metadata": {},
   "source": [
    "Ahora prediga la etiqueta correcta para esta imagen:"
   ]
  },
  {
   "cell_type": "code",
   "execution_count": null,
   "id": "60125e0a-b48e-4a5a-b09a-533ec60e190d",
   "metadata": {},
   "outputs": [],
   "source": [
    "predictions_single = model.predict(img)\n",
    "\n",
    "print(predictions_single)\n",
    "\n",
    "plot_value_array(1, predictions_single[0], test_labels)\n",
    "_ = plt.xticks(range(10), class_names, rotation=45)"
   ]
  },
  {
   "cell_type": "markdown",
   "id": "c01caea6-25ea-44b7-b6bb-e55f4f795aa7",
   "metadata": {},
   "source": [
    "# Preguntas del taller"
   ]
  },
  {
   "cell_type": "markdown",
   "id": "d4e8f50b-279c-4591-9406-f290f2e4db46",
   "metadata": {},
   "source": [
    "1. ¿Porque existe una diferencia entre 'accuracy' o 'loss' en las fases de entrenamiento y pruebas ?\n",
    "2. ¿Porque considera que algunas de las imagenes no lograron ser categorizadas correctamente? ¿Que las podria diferencias?\n",
    "3. ¿Que ocurre cuando incrementamos la cantidad de neuronas intermedias de 128 a 500? ¿Que le ocure a la diferencia de los valores de train vs test? Explique su respuesta\n",
    "4. ¿Que ocurre cuando incrementamos la cantidad de epocas (iteraciones) de 10 a 20? ¿Que le ocure a la diferencia de los valores de train vs test?Explique su respuesta\n",
    "5. Explique como es la arquitectura del siguiente modelo:"
   ]
  },
  {
   "cell_type": "raw",
   "id": "83da34b9-727b-4e67-b39e-e164cba1d9fb",
   "metadata": {},
   "source": [
    "# ignorar el warning\n",
    "model = keras.Sequential([\n",
    "    keras.layers.Flatten(input_shape=(28, 28)),\n",
    "    keras.layers.Dense(500, activation='relu'),\n",
    "    keras.layers.Dense(500, activation='relu'),\n",
    "    keras.layers.Dense(500, activation='relu'),\n",
    "    keras.layers.Dense(10, activation='softmax')\n",
    "])"
   ]
  },
  {
   "cell_type": "code",
   "execution_count": null,
   "id": "964bcc2c-bbf5-4f6a-a7af-c6fb74aebb9c",
   "metadata": {},
   "outputs": [],
   "source": []
  }
 ],
 "metadata": {
  "kernelspec": {
   "display_name": "Python 3 (ipykernel)",
   "language": "python",
   "name": "python3"
  },
  "language_info": {
   "codemirror_mode": {
    "name": "ipython",
    "version": 3
   },
   "file_extension": ".py",
   "mimetype": "text/x-python",
   "name": "python",
   "nbconvert_exporter": "python",
   "pygments_lexer": "ipython3",
   "version": "3.12.7"
  }
 },
 "nbformat": 4,
 "nbformat_minor": 5
}
