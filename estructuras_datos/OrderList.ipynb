{
 "cells": [
  {
   "cell_type": "markdown",
   "id": "3d37ba2c-3db4-468b-94f4-8c64f6a92b8e",
   "metadata": {},
   "source": [
    "# Implementacion"
   ]
  },
  {
   "cell_type": "code",
   "execution_count": 2,
   "id": "2142b129-11be-4a52-ab64-43e106572d93",
   "metadata": {},
   "outputs": [],
   "source": [
    "from sortedcontainers import SortedList\n",
    "\n",
    "class OrderList:\n",
    "    \n",
    "    def __init__(self):\n",
    "        self.__memory = SortedList()\n",
    "\n",
    "    def __len__(self):\n",
    "        return len(self.__memory)\n",
    "\n",
    "    def __str__(self):\n",
    "        return f\"{self.__class__.__name__}({list(self.__memory)})\"\n",
    "\n",
    "    def get(self,index):\n",
    "        return self.__memory[index]\n",
    "    \n",
    "    def push(self, element):\n",
    "        self.__memory.add(element)\n",
    "\n",
    "    def pop(self,order=\"ASC\"):\n",
    "        if order == \"ASC\":\n",
    "            return self.__memory.pop(0)\n",
    "        elif order == \"DESC\":\n",
    "            return self.__memory.pop(-1)\n",
    "        else:\n",
    "            raise ValueError(\"order parameter should be 'ASC' or 'DESC'.\")"
   ]
  },
  {
   "cell_type": "markdown",
   "id": "95434d8d-b05b-4e8e-b7cd-84956bec84ab",
   "metadata": {},
   "source": [
    "# Test"
   ]
  },
  {
   "cell_type": "code",
   "execution_count": 4,
   "id": "a9cce1c9-7587-47bd-a3c5-c11fa6a025e5",
   "metadata": {},
   "outputs": [
    {
     "name": "stderr",
     "output_type": "stream",
     "text": [
      ".......\n",
      "----------------------------------------------------------------------\n",
      "Ran 7 tests in 0.006s\n",
      "\n",
      "OK\n"
     ]
    },
    {
     "name": "stdout",
     "output_type": "stream",
     "text": [
      "Errors: []\n",
      "Failures: []\n"
     ]
    }
   ],
   "source": [
    "import unittest\n",
    "\n",
    "class TestOrderList(unittest.TestCase):\n",
    "\n",
    "    def setUp(self):\n",
    "        \"\"\"Este método se ejecuta antes de cada prueba.\"\"\"\n",
    "        self.orderList = OrderList()\n",
    "\n",
    "    def test_empty_orderList_length(self):\n",
    "        \"\"\"Verifica que la longitud de una cola vacía sea 0.\"\"\"\n",
    "        self.assertEqual(len(self.orderList), 0)\n",
    "\n",
    "    def test_push_elements(self):\n",
    "        \"\"\"Verifica que los elementos se obtengan por su indice.\"\"\"\n",
    "        self.orderList.push(1)\n",
    "        self.orderList.push(2)\n",
    "        self.orderList.push(3)\n",
    "        self.assertEqual(self.orderList.get(1), 2)\n",
    "        self.assertEqual(str(self.orderList), \"OrderList([1, 2, 3])\")\n",
    "    \n",
    "    def test_push_elements(self):\n",
    "        \"\"\"Verifica que los elementos se agreguen correctamente.\"\"\"\n",
    "        self.orderList.push(1)\n",
    "        self.orderList.push(2)\n",
    "        self.orderList.push(3)\n",
    "        self.assertEqual(len(self.orderList), 3)\n",
    "        self.assertEqual(str(self.orderList), \"OrderList([1, 2, 3])\")\n",
    "\n",
    "    def test_pop_elements_defaultAsc(self):\n",
    "        \"\"\"Verifica que los elementos se eliminen en orden FIFO - ASC.\"\"\"\n",
    "        self.orderList.push(10)\n",
    "        self.orderList.push(20)\n",
    "        self.orderList.push(30)\n",
    "        self.assertEqual(self.orderList.pop(), 10)\n",
    "        self.assertEqual(self.orderList.pop(), 20)\n",
    "        self.assertEqual(len(self.orderList), 1)\n",
    "        self.assertEqual(str(self.orderList), \"OrderList([30])\")\n",
    "\n",
    "    def test_order_elements_asc(self):\n",
    "        \"\"\"Verifica que los elementos se eliminen en orden FIFO - ASC.\"\"\"\n",
    "        self.orderList.push(10)\n",
    "        self.orderList.push(2)\n",
    "        self.orderList.push(8)\n",
    "        self.orderList.push(0)\n",
    "        self.orderList.push(5)\n",
    "        self.assertEqual(len(self.orderList), 5)\n",
    "        self.assertEqual(str(self.orderList), \"OrderList([0, 2, 5, 8, 10])\")\n",
    "        self.assertEqual(self.orderList.pop(\"ASC\"), 0)\n",
    "\n",
    "    def test_order_elements_desc(self):\n",
    "        \"\"\"Verifica que los elementos se eliminen en orden FIFO - DESC.\"\"\"\n",
    "        self.orderList.push(10)\n",
    "        self.orderList.push(2)\n",
    "        self.orderList.push(8)\n",
    "        self.orderList.push(0)\n",
    "        self.orderList.push(5)\n",
    "        self.assertEqual(len(self.orderList), 5)\n",
    "        self.assertEqual(str(self.orderList), \"OrderList([0, 2, 5, 8, 10])\")\n",
    "        self.assertEqual(self.orderList.pop(\"DESC\"), 10)\n",
    "\n",
    "    def test_pop_empty_orderList(self):\n",
    "        \"\"\"Verifica que intentar eliminar de una cola vacía lance una excepción.\"\"\"\n",
    "        with self.assertRaises(IndexError):\n",
    "            self.orderList.pop()\n",
    "\n",
    "    def test_str_representation(self):\n",
    "        \"\"\"Verifica la representación en string de la cola.\"\"\"\n",
    "        self.orderList.push(\"a\")\n",
    "        self.orderList.push(\"b\")\n",
    "        self.assertEqual(str(self.orderList), \"OrderList(['a', 'b'])\")\n",
    "        self.orderList.pop()\n",
    "        self.assertEqual(str(self.orderList), \"OrderList(['b'])\")\n",
    "\n",
    "test_results = unittest.TextTestRunner().run(unittest.TestLoader().loadTestsFromTestCase(TestOrderList))\n",
    "print(f\"Errors: { test_results.errors }\")\n",
    "print(f\"Failures: { test_results.failures }\")"
   ]
  },
  {
   "cell_type": "code",
   "execution_count": null,
   "id": "4c4ca87b-05d8-4e4d-b682-5a055e525b7e",
   "metadata": {},
   "outputs": [],
   "source": []
  }
 ],
 "metadata": {
  "kernelspec": {
   "display_name": "Python [conda env:base] *",
   "language": "python",
   "name": "conda-base-py"
  },
  "language_info": {
   "codemirror_mode": {
    "name": "ipython",
    "version": 3
   },
   "file_extension": ".py",
   "mimetype": "text/x-python",
   "name": "python",
   "nbconvert_exporter": "python",
   "pygments_lexer": "ipython3",
   "version": "3.12.7"
  }
 },
 "nbformat": 4,
 "nbformat_minor": 5
}
