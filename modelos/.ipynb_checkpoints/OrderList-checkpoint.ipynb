{
 "cells": [
  {
   "cell_type": "markdown",
   "id": "3d37ba2c-3db4-468b-94f4-8c64f6a92b8e",
   "metadata": {},
   "source": [
    "# Implementacion"
   ]
  },
  {
   "cell_type": "code",
   "execution_count": 2,
   "id": "2142b129-11be-4a52-ab64-43e106572d93",
   "metadata": {},
   "outputs": [],
   "source": [
    "from collections import deque\n",
    "\n",
    "class Queue:\n",
    "\n",
    "    def __init__(self):\n",
    "        self.__memory = deque()\n",
    "\n",
    "    def __len__(self):\n",
    "        return len(self.__memory)\n",
    "\n",
    "    def __str__(self):\n",
    "        return f\"{self.__class__.__name__}({list(self.__memory)})\"\n",
    "\n",
    "    def add(self, element):\n",
    "        self.__memory.append(element)\n",
    "\n",
    "    def remove(self):\n",
    "        return self.__memory.popleft()"
   ]
  },
  {
   "cell_type": "markdown",
   "id": "95434d8d-b05b-4e8e-b7cd-84956bec84ab",
   "metadata": {},
   "source": [
    "# Test"
   ]
  },
  {
   "cell_type": "code",
   "execution_count": 4,
   "id": "a9cce1c9-7587-47bd-a3c5-c11fa6a025e5",
   "metadata": {},
   "outputs": [
    {
     "name": "stderr",
     "output_type": "stream",
     "text": [
      ".....\n",
      "----------------------------------------------------------------------\n",
      "Ran 5 tests in 0.004s\n",
      "\n",
      "OK\n"
     ]
    },
    {
     "name": "stdout",
     "output_type": "stream",
     "text": [
      "Errors: []\n",
      "Failures: []\n"
     ]
    }
   ],
   "source": [
    "import unittest\n",
    "\n",
    "class TestQueue(unittest.TestCase):\n",
    "\n",
    "    def setUp(self):\n",
    "        \"\"\"Este método se ejecuta antes de cada prueba.\"\"\"\n",
    "        self.queue = Queue()\n",
    "\n",
    "    def test_empty_queue_length(self):\n",
    "        \"\"\"Verifica que la longitud de una cola vacía sea 0.\"\"\"\n",
    "        self.assertEqual(len(self.queue), 0)\n",
    "\n",
    "    def test_add_elements(self):\n",
    "        \"\"\"Verifica que los elementos se agreguen correctamente.\"\"\"\n",
    "        self.queue.add(1)\n",
    "        self.queue.add(2)\n",
    "        self.queue.add(3)\n",
    "        self.assertEqual(len(self.queue), 3)\n",
    "        self.assertEqual(str(self.queue), \"Queue([1, 2, 3])\")\n",
    "\n",
    "    def test_remove_elements(self):\n",
    "        \"\"\"Verifica que los elementos se eliminen en orden FIFO.\"\"\"\n",
    "        self.queue.add(10)\n",
    "        self.queue.add(20)\n",
    "        self.queue.add(30)\n",
    "        self.assertEqual(self.queue.remove(), 10)\n",
    "        self.assertEqual(self.queue.remove(), 20)\n",
    "        self.assertEqual(len(self.queue), 1)\n",
    "        self.assertEqual(str(self.queue), \"Queue([30])\")\n",
    "\n",
    "    def test_remove_empty_queue(self):\n",
    "        \"\"\"Verifica que intentar eliminar de una cola vacía lance una excepción.\"\"\"\n",
    "        with self.assertRaises(IndexError):\n",
    "            self.queue.remove()\n",
    "\n",
    "    def test_str_representation(self):\n",
    "        \"\"\"Verifica la representación en string de la cola.\"\"\"\n",
    "        self.queue.add(\"a\")\n",
    "        self.queue.add(\"b\")\n",
    "        self.assertEqual(str(self.queue), \"Queue(['a', 'b'])\")\n",
    "        self.queue.remove()\n",
    "        self.assertEqual(str(self.queue), \"Queue(['b'])\")\n",
    "\n",
    "test_results = unittest.TextTestRunner().run(unittest.TestLoader().loadTestsFromTestCase(TestQueue))\n",
    "print(f\"Errors: { test_results.errors }\")\n",
    "print(f\"Failures: { test_results.failures }\")"
   ]
  },
  {
   "cell_type": "code",
   "execution_count": null,
   "id": "4c4ca87b-05d8-4e4d-b682-5a055e525b7e",
   "metadata": {},
   "outputs": [],
   "source": []
  }
 ],
 "metadata": {
  "kernelspec": {
   "display_name": "Python 3 (ipykernel)",
   "language": "python",
   "name": "python3"
  },
  "language_info": {
   "codemirror_mode": {
    "name": "ipython",
    "version": 3
   },
   "file_extension": ".py",
   "mimetype": "text/x-python",
   "name": "python",
   "nbconvert_exporter": "python",
   "pygments_lexer": "ipython3",
   "version": "3.12.7"
  }
 },
 "nbformat": 4,
 "nbformat_minor": 5
}
