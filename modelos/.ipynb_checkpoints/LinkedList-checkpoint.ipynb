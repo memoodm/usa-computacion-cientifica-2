{
 "cells": [
  {
   "cell_type": "code",
   "execution_count": 1,
   "id": "48b8cb9f-8e57-4864-894c-1c71f1ef1b54",
   "metadata": {},
   "outputs": [],
   "source": [
    "class Node:\n",
    "\n",
    "    def __init__(self,element):\n",
    "        self.element = element\n",
    "        self.next = None\n",
    "\n",
    "    def __str__(self):\n",
    "        return str(self.element)\n",
    "\n",
    "    def __repr__(self):\n",
    "        return self.__str__()"
   ]
  },
  {
   "cell_type": "code",
   "execution_count": 2,
   "id": "3b81395e-715d-4526-bd47-9db6f8de33d5",
   "metadata": {},
   "outputs": [],
   "source": [
    "class LinkedList:\n",
    "\n",
    "    def __init__(self):\n",
    "        self.head = None\n",
    "        self.tail = None\n",
    "        self.size = 0\n",
    "\n",
    "    def __str__(self):\n",
    "        array_list = []\n",
    "        actual_node = self.head\n",
    "        while actual_node is not None:\n",
    "            array_list.append( actual_node.element )\n",
    "            actual_node = actual_node.next\n",
    "        return str(array_list)\n",
    "\n",
    "    def get(self,index):\n",
    "        if index >= self.size:\n",
    "            raise IndexError(\"list index out of range\")\n",
    "        node = self.head\n",
    "        for _ in range(0,index):\n",
    "            node = node.next\n",
    "        return node\n",
    "    \n",
    "    def append(self,element):\n",
    "        new_node = Node(element)\n",
    "        if self.size == 0:\n",
    "            self.head = new_node\n",
    "            self.tail = new_node \n",
    "        else:\n",
    "            last_node = self.tail\n",
    "            last_node.next = new_node\n",
    "            self.tail = new_node\n",
    "        self.size += 1\n",
    "\n",
    "    def insert(self,element,index):\n",
    "        if index > self.size:\n",
    "            raise IndexError(\"list index out of range\")\n",
    "        new_node = Node(element)\n",
    "        if index == 0:\n",
    "            new_node.next = self.head\n",
    "            self.head = new_node\n",
    "        elif index == self.size:\n",
    "            self.append(element)\n",
    "        else:\n",
    "            actual_node = self.get(index-1)\n",
    "            new_node.next = actual_node.next\n",
    "            actual_node.next = new_node\n",
    "        self.size += 1"
   ]
  },
  {
   "cell_type": "code",
   "execution_count": 25,
   "id": "2a2201f8-4af3-469a-8b25-0e7a5e5383c8",
   "metadata": {},
   "outputs": [],
   "source": [
    "linked_list = LinkedList()\n",
    "linked_list.append(\"A\")\n",
    "linked_list.append(\"B\")\n",
    "linked_list.append(\"C\")\n",
    "linked_list.append(\"D\")"
   ]
  },
  {
   "cell_type": "code",
   "execution_count": 26,
   "id": "ec9cd389-8d09-43ff-84a5-e9f51d108fbb",
   "metadata": {},
   "outputs": [
    {
     "name": "stdout",
     "output_type": "stream",
     "text": [
      "['A', 'B', 'C', 'D']\n"
     ]
    }
   ],
   "source": [
    "print( linked_list )"
   ]
  },
  {
   "cell_type": "code",
   "execution_count": 27,
   "id": "000051a0-fbf7-49e7-ba17-3f94057ccd51",
   "metadata": {},
   "outputs": [
    {
     "data": {
      "text/plain": [
       "D"
      ]
     },
     "execution_count": 27,
     "metadata": {},
     "output_type": "execute_result"
    }
   ],
   "source": [
    "linked_list.get(3)"
   ]
  },
  {
   "cell_type": "code",
   "execution_count": 28,
   "id": "c2a0b44d-c5a7-4f6f-ab16-47419513603a",
   "metadata": {},
   "outputs": [
    {
     "ename": "IndexError",
     "evalue": "list index out of range",
     "output_type": "error",
     "traceback": [
      "\u001b[1;31m---------------------------------------------------------------------------\u001b[0m",
      "\u001b[1;31mIndexError\u001b[0m                                Traceback (most recent call last)",
      "Cell \u001b[1;32mIn[28], line 1\u001b[0m\n\u001b[1;32m----> 1\u001b[0m linked_list\u001b[38;5;241m.\u001b[39minsert(\u001b[38;5;124m\"\u001b[39m\u001b[38;5;124mZ\u001b[39m\u001b[38;5;124m\"\u001b[39m,\u001b[38;5;241m5\u001b[39m)\n\u001b[0;32m      2\u001b[0m \u001b[38;5;28mprint\u001b[39m( linked_list )\n",
      "Cell \u001b[1;32mIn[2], line 37\u001b[0m, in \u001b[0;36mLinkedList.insert\u001b[1;34m(self, element, index)\u001b[0m\n\u001b[0;32m     35\u001b[0m \u001b[38;5;28;01mdef\u001b[39;00m \u001b[38;5;21minsert\u001b[39m(\u001b[38;5;28mself\u001b[39m,element,index):\n\u001b[0;32m     36\u001b[0m     \u001b[38;5;28;01mif\u001b[39;00m index \u001b[38;5;241m>\u001b[39m \u001b[38;5;28mself\u001b[39m\u001b[38;5;241m.\u001b[39msize:\n\u001b[1;32m---> 37\u001b[0m         \u001b[38;5;28;01mraise\u001b[39;00m \u001b[38;5;167;01mIndexError\u001b[39;00m(\u001b[38;5;124m\"\u001b[39m\u001b[38;5;124mlist index out of range\u001b[39m\u001b[38;5;124m\"\u001b[39m)\n\u001b[0;32m     38\u001b[0m     new_node \u001b[38;5;241m=\u001b[39m Node(element)\n\u001b[0;32m     39\u001b[0m     \u001b[38;5;28;01mif\u001b[39;00m index \u001b[38;5;241m==\u001b[39m \u001b[38;5;241m0\u001b[39m:\n",
      "\u001b[1;31mIndexError\u001b[0m: list index out of range"
     ]
    }
   ],
   "source": [
    "linked_list.insert(\"Z\",5)\n",
    "print( linked_list )"
   ]
  },
  {
   "cell_type": "code",
   "execution_count": null,
   "id": "8549e0e7-e640-4b4b-b69a-2c7b4ff423e0",
   "metadata": {},
   "outputs": [],
   "source": []
  }
 ],
 "metadata": {
  "kernelspec": {
   "display_name": "Python 3 (ipykernel)",
   "language": "python",
   "name": "python3"
  },
  "language_info": {
   "codemirror_mode": {
    "name": "ipython",
    "version": 3
   },
   "file_extension": ".py",
   "mimetype": "text/x-python",
   "name": "python",
   "nbconvert_exporter": "python",
   "pygments_lexer": "ipython3",
   "version": "3.12.4"
  }
 },
 "nbformat": 4,
 "nbformat_minor": 5
}
