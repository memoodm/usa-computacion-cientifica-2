{
 "cells": [
  {
   "cell_type": "markdown",
   "id": "adda9933-b28d-4f94-9ec9-975903a45ab9",
   "metadata": {},
   "source": [
    "# Regresion lineal - solucion por grafos"
   ]
  },
  {
   "cell_type": "code",
   "execution_count": 2,
   "id": "b5317943-d1f3-4791-bd15-ffd012e29cd0",
   "metadata": {},
   "outputs": [],
   "source": [
    "import random\n",
    "import numpy as np\n",
    "import matplotlib.pyplot as plt"
   ]
  },
  {
   "cell_type": "markdown",
   "id": "95802bfb-08ce-4e38-88b8-3f44724b901e",
   "metadata": {},
   "source": [
    "## Generar data"
   ]
  },
  {
   "cell_type": "code",
   "execution_count": 4,
   "id": "08808b0c-079a-4802-9168-89e0aed648c8",
   "metadata": {},
   "outputs": [],
   "source": [
    "NOISE = 10\n",
    "\n",
    "X = np.linspace(-10,10,100)\n",
    "Y = [x+(random.random()-0.5)*NOISE for x in X]"
   ]
  },
  {
   "cell_type": "code",
   "execution_count": 5,
   "id": "41654d75-77dd-49d1-af1f-aecbb5618a49",
   "metadata": {},
   "outputs": [
    {
     "data": {
      "text/plain": [
       "<matplotlib.collections.PathCollection at 0x1c012089d00>"
      ]
     },
     "execution_count": 5,
     "metadata": {},
     "output_type": "execute_result"
    },
    {
     "data": {
      "image/png": "[encoded data removed]",
      "text/plain": [
       "<Figure size 640x480 with 1 Axes>"
      ]
     },
     "metadata": {},
     "output_type": "display_data"
    }
   ],
   "source": [
    "plt.scatter( X, Y )"
   ]
  },
  {
   "cell_type": "markdown",
   "id": "e6d04c77-09e0-4764-8c3c-f335f5d7384d",
   "metadata": {},
   "source": [
    "## Metodos"
   ]
  },
  {
   "cell_type": "code",
   "execution_count": 7,
   "id": "616c1e28-5ea5-4fef-802d-4879c0ac9049",
   "metadata": {},
   "outputs": [],
   "source": [
    "# modelo : lista de parametros de la funcion, \n",
    "#          ejemplo: [2,5] = x*2+4\n",
    "#          ejemplo: [3,2,5] = 3*(x**2)+2*(x)+4\n",
    "def calcular_modelo(modelo, x):\n",
    "    result = 0\n",
    "    for i in range(len(modelo)):\n",
    "        result += modelo[-1*(i+1)]*(x**i)\n",
    "    return result"
   ]
  },
  {
   "cell_type": "code",
   "execution_count": 8,
   "id": "8d8f9f34-be75-43d5-9eee-77f642e9bf8e",
   "metadata": {},
   "outputs": [],
   "source": [
    "def calcular_error(modelo,data_x,data_y):\n",
    "    error_total = 0\n",
    "    for i in range(len(data_x)):\n",
    "        predicted_y = calcular_modelo(modelo,data_x[i])\n",
    "        real_y = data_y[i]\n",
    "        error_total += (predicted_y-real_y)**2\n",
    "    return error_total"
   ]
  },
  {
   "cell_type": "markdown",
   "id": "028f3898-bb0f-415b-a505-961eeb9069b4",
   "metadata": {},
   "source": [
    "## Nodo"
   ]
  },
  {
   "cell_type": "code",
   "execution_count": 10,
   "id": "dd43861a-095a-49dd-bce7-80c096e5f5ef",
   "metadata": {},
   "outputs": [],
   "source": [
    "class Node:\n",
    "    def __init__(self,modelo):\n",
    "        self.modelo = modelo\n",
    "        self.error = calcular_error(modelo,X,Y)\n",
    "    def __lt__(self,other):\n",
    "        return self.error < other.error\n",
    "    def __str__(self):\n",
    "        return f\"[model:{self.modelo} , error:{self.error:.2f}]\"\n",
    "    def __repr__(self):\n",
    "        return self.__str__()"
   ]
  },
  {
   "cell_type": "markdown",
   "id": "dfffa5ed-adfd-480b-8f9b-a04e858cdcbd",
   "metadata": {},
   "source": [
    "## Solucion - y=mx+b"
   ]
  },
  {
   "cell_type": "code",
   "execution_count": 12,
   "id": "50a5987d-ed24-4357-9ca2-3b9378ea35bc",
   "metadata": {},
   "outputs": [],
   "source": [
    "def regresion_linear_grafos(modelo, deltas, max_iteraciones):\n",
    "\n",
    "    solution_node = Node(modelo)\n",
    "    \n",
    "    max_iterations = 100\n",
    "    for iteration in range(max_iterations):\n",
    "    \n",
    "        next_nodes = []\n",
    "        \n",
    "        # generar cambios en los nodos segun los deltas\n",
    "        for i in range(len(solution_node.modelo)):\n",
    "            copy_model_pluss = solution_node.modelo[:]\n",
    "            copy_model_pluss[i] = copy_model_pluss[i] + deltas[i]\n",
    "            #print(solution_node.modelo,\" -> \",copy_model_pluss)\n",
    "            next_nodes.append( Node(copy_model_pluss) )\n",
    "            copy_model_minus = solution_node.modelo[:]\n",
    "            copy_model_minus[i] = copy_model_minus[i] - deltas[i]\n",
    "            #print(solution_node.modelo,\" -> \",copy_model_minus)\n",
    "            next_nodes.append( Node(copy_model_minus) )\n",
    "    \n",
    "        next_nodes.sort()\n",
    "    \n",
    "        if next_nodes[0].error < solution_node.error:\n",
    "            solution_node = next_nodes[0]\n",
    "        else:\n",
    "            print(f\"Solution found! in {iteration} iterations\")\n",
    "            break;\n",
    "\n",
    "    return solution_node"
   ]
  },
  {
   "cell_type": "code",
   "execution_count": 16,
   "id": "748c7a2b-b86f-4039-a032-e8718bc1257c",
   "metadata": {},
   "outputs": [
    {
     "name": "stdout",
     "output_type": "stream",
     "text": [
      "Solution found! in 12 iterations\n",
      "======================\n",
      "Solution:  [0.9999999999999999, 0.2]\n",
      "Error:  921.6163625356601\n"
     ]
    },
    {
     "ename": "NameError",
     "evalue": "name 'solution_node' is not defined",
     "output_type": "error",
     "traceback": [
      "\u001b[1;31m---------------------------------------------------------------------------\u001b[0m",
      "\u001b[1;31mNameError\u001b[0m                                 Traceback (most recent call last)",
      "Cell \u001b[1;32mIn[16], line 12\u001b[0m\n\u001b[0;32m      8\u001b[0m \u001b[38;5;28mprint\u001b[39m(\u001b[38;5;124m\"\u001b[39m\u001b[38;5;124mError: \u001b[39m\u001b[38;5;124m\"\u001b[39m,nodo_solucion\u001b[38;5;241m.\u001b[39merror)\n\u001b[0;32m     10\u001b[0m model_predictions \u001b[38;5;241m=\u001b[39m [ calcular_modelo(nodo_solucion\u001b[38;5;241m.\u001b[39mmodelo, x) \u001b[38;5;28;01mfor\u001b[39;00m x \u001b[38;5;129;01min\u001b[39;00m X ]\n\u001b[1;32m---> 12\u001b[0m plt\u001b[38;5;241m.\u001b[39mtitle(\u001b[38;5;124mf\u001b[39m\u001b[38;5;124m\"\u001b[39m\u001b[38;5;124msolution model: \u001b[39m\u001b[38;5;132;01m{\u001b[39;00msolution_node\u001b[38;5;241m.\u001b[39mmodelo\u001b[38;5;132;01m}\u001b[39;00m\u001b[38;5;124m, error: \u001b[39m\u001b[38;5;132;01m{\u001b[39;00msolution_node\u001b[38;5;241m.\u001b[39merror\u001b[38;5;132;01m:\u001b[39;00m\u001b[38;5;124m.2f\u001b[39m\u001b[38;5;132;01m}\u001b[39;00m\u001b[38;5;124m\"\u001b[39m)\n\u001b[0;32m     13\u001b[0m plt\u001b[38;5;241m.\u001b[39mscatter( X, Y, label\u001b[38;5;241m=\u001b[39m\u001b[38;5;124m\"\u001b[39m\u001b[38;5;124mdata\u001b[39m\u001b[38;5;124m\"\u001b[39m )\n\u001b[0;32m     14\u001b[0m plt\u001b[38;5;241m.\u001b[39mplot( X, model_predictions, label\u001b[38;5;241m=\u001b[39m\u001b[38;5;124m\"\u001b[39m\u001b[38;5;124mmodel\u001b[39m\u001b[38;5;124m\"\u001b[39m, color\u001b[38;5;241m=\u001b[39m\u001b[38;5;124m\"\u001b[39m\u001b[38;5;124mred\u001b[39m\u001b[38;5;124m\"\u001b[39m )\n",
      "\u001b[1;31mNameError\u001b[0m: name 'solution_node' is not defined"
     ]
    }
   ],
   "source": [
    "deltas = [0.1,0.1]\n",
    "modelo = [0,0]\n",
    "\n",
    "nodo_solucion = regresion_linear_grafos( modelo=modelo, deltas=deltas, max_iteraciones=100000)\n",
    "\n",
    "print(\"======================\")\n",
    "print(\"Solution: \",nodo_solucion.modelo)\n",
    "print(\"Error: \",nodo_solucion.error)\n",
    "\n",
    "model_predictions = [ calcular_modelo(nodo_solucion.modelo, x) for x in X ]\n",
    "\n",
    "plt.title(f\"solution model: {solution_node.modelo}, error: {solution_node.error:.2f}\")\n",
    "plt.scatter( X, Y, label=\"data\" )\n",
    "plt.plot( X, model_predictions, label=\"model\", color=\"red\" )\n",
    "plt.legend()\n",
    "plt.show()"
   ]
  },
  {
   "cell_type": "markdown",
   "id": "0aab3d8e-51ec-4d83-ac08-11b4cbc4b4d3",
   "metadata": {},
   "source": [
    "## Solucion - y = a*x**2 + b*x + c"
   ]
  },
  {
   "cell_type": "code",
   "execution_count": null,
   "id": "391e3c74-bc9b-4977-b204-2a70ce82451b",
   "metadata": {},
   "outputs": [],
   "source": [
    "NOISE = 10\n",
    "\n",
    "A, B, C = 2, 4, -10\n",
    "\n",
    "X = np.linspace(-10,10,100)\n",
    "Y = [(A*x**2+B*x+C)+(random.random()-0.5)*NOISE for x in X]\n",
    "\n",
    "plt.scatter( X, Y )"
   ]
  },
  {
   "cell_type": "code",
   "execution_count": null,
   "id": "1e61e743-f17a-46aa-a07c-2fc229ba62db",
   "metadata": {},
   "outputs": [],
   "source": [
    "deltas = [0.1,0.1,0.1]\n",
    "modelo = [0,0,0]\n",
    "\n",
    "nodo_solucion = regresion_linear_grafos( modelo=modelo, deltas=deltas, max_iteraciones=100000)\n",
    "\n",
    "print(\"======================\")\n",
    "print(\"Solution: \",nodo_solucion.modelo)\n",
    "print(\"Error: \",nodo_solucion.error)\n",
    "\n",
    "model_predictions = [ calcular_modelo(solution_node.modelo, x) for x in X ]\n",
    "\n",
    "plt.title(f\"solution model: {solution_node.modelo}, error: {solution_node.error:.2f}\")\n",
    "plt.scatter( X, Y, label=\"data\" )\n",
    "plt.plot( X, model_predictions, label=\"model\", color=\"red\" )\n",
    "plt.legend()\n",
    "plt.show()"
   ]
  },
  {
   "cell_type": "code",
   "execution_count": null,
   "id": "bdec0350-cec4-4514-8928-180e74b0b623",
   "metadata": {},
   "outputs": [],
   "source": []
  }
 ],
 "metadata": {
  "kernelspec": {
   "display_name": "Python 3 (ipykernel)",
   "language": "python",
   "name": "python3"
  },
  "language_info": {
   "codemirror_mode": {
    "name": "ipython",
    "version": 3
   },
   "file_extension": ".py",
   "mimetype": "text/x-python",
   "name": "python",
   "nbconvert_exporter": "python",
   "pygments_lexer": "ipython3",
   "version": "3.12.7"
  }
 },
 "nbformat": 4,
 "nbformat_minor": 5
}
