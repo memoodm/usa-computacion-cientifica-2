{
 "cells": [
  {
   "cell_type": "markdown",
   "id": "3d37ba2c-3db4-468b-94f4-8c64f6a92b8e",
   "metadata": {},
   "source": [
    "# Implementacion"
   ]
  },
  {
   "cell_type": "code",
   "execution_count": 23,
   "id": "2142b129-11be-4a52-ab64-43e106572d93",
   "metadata": {},
   "outputs": [],
   "source": [
    "from collections import deque\n",
    "\n",
    "class Stack:\n",
    "    def __init__(self):\n",
    "        self.__memory = deque()\n",
    "\n",
    "    def __len__(self):\n",
    "        return len(self.__memory)\n",
    "\n",
    "    def __str__(self):\n",
    "        return f\"{self.__class__.__name__}({list(self.__memory)})\"\n",
    "\n",
    "    def push(self, element):\n",
    "        self.__memory.append(element)\n",
    "\n",
    "    def pop(self):\n",
    "        return self.__memory.pop()\n",
    "\n",
    "    def is_empty(self):\n",
    "        return len(self.__memory) == 0"
   ]
  },
  {
   "cell_type": "markdown",
   "id": "95434d8d-b05b-4e8e-b7cd-84956bec84ab",
   "metadata": {},
   "source": [
    "# Test"
   ]
  },
  {
   "cell_type": "code",
   "execution_count": 26,
   "id": "a9cce1c9-7587-47bd-a3c5-c11fa6a025e5",
   "metadata": {},
   "outputs": [
    {
     "name": "stderr",
     "output_type": "stream",
     "text": [
      ".....\n",
      "----------------------------------------------------------------------\n",
      "Ran 5 tests in 0.003s\n",
      "\n",
      "OK\n"
     ]
    },
    {
     "name": "stdout",
     "output_type": "stream",
     "text": [
      "Errors: []\n",
      "Failures: []\n"
     ]
    }
   ],
   "source": [
    "import unittest\n",
    "\n",
    "class TestStack(unittest.TestCase):\n",
    "\n",
    "    def setUp(self):\n",
    "        \"\"\"Este método se ejecuta antes de cada prueba.\"\"\"\n",
    "        self.stack = Stack()\n",
    "\n",
    "    def test_empty_stack_length(self):\n",
    "        \"\"\"Verifica que la longitud de una cola vacía sea 0.\"\"\"\n",
    "        self.assertEqual(len(self.stack), 0)\n",
    "\n",
    "    def test_push_elements(self):\n",
    "        \"\"\"Verifica que los elementos se agreguen correctamente.\"\"\"\n",
    "        self.stack.push(1)\n",
    "        self.stack.push(2)\n",
    "        self.stack.push(3)\n",
    "        self.assertEqual(len(self.stack), 3)\n",
    "        self.assertEqual(str(self.stack), \"Stack([1, 2, 3])\")\n",
    "\n",
    "    def test_pop_elements(self):\n",
    "        \"\"\"Verifica que los elementos se eliminen en orden FILO.\"\"\"\n",
    "        self.stack.push(10)\n",
    "        self.stack.push(20)\n",
    "        self.stack.push(30)\n",
    "        self.assertEqual(self.stack.pop(), 30)\n",
    "        self.assertEqual(self.stack.pop(), 20)\n",
    "        self.assertEqual(len(self.stack), 1)\n",
    "        self.assertEqual(str(self.stack), \"Stack([10])\")\n",
    "\n",
    "    def test_pop_empty_stack(self):\n",
    "        \"\"\"Verifica que intentar eliminar de una cola vacía lance una excepción.\"\"\"\n",
    "        with self.assertRaises(IndexError):\n",
    "            self.stack.pop()\n",
    "\n",
    "    def test_str_representation(self):\n",
    "        \"\"\"Verifica la representación en string de la stack.\"\"\"\n",
    "        self.stack.push(\"a\")\n",
    "        self.stack.push(\"b\")\n",
    "        self.assertEqual(str(self.stack), \"Stack(['a', 'b'])\")\n",
    "        self.stack.pop()\n",
    "        self.assertEqual(str(self.stack), \"Stack(['a'])\")\n",
    "\n",
    "test_results = unittest.TextTestRunner().run(unittest.TestLoader().loadTestsFromTestCase(TestStack))\n",
    "print(f\"Errors: { test_results.errors }\")\n",
    "print(f\"Failures: { test_results.failures }\")"
   ]
  },
  {
   "cell_type": "code",
   "execution_count": null,
   "id": "4c4ca87b-05d8-4e4d-b682-5a055e525b7e",
   "metadata": {},
   "outputs": [],
   "source": []
  }
 ],
 "metadata": {
  "kernelspec": {
   "display_name": "Python 3 (ipykernel)",
   "language": "python",
   "name": "python3"
  },
  "language_info": {
   "codemirror_mode": {
    "name": "ipython",
    "version": 3
   },
   "file_extension": ".py",
   "mimetype": "text/x-python",
   "name": "python",
   "nbconvert_exporter": "python",
   "pygments_lexer": "ipython3",
   "version": "3.12.7"
  }
 },
 "nbformat": 4,
 "nbformat_minor": 5
}
